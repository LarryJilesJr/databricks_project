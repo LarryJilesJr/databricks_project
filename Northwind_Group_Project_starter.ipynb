{
 "cells": [
  {
   "cell_type": "code",
   "execution_count": 0,
   "metadata": {
    "application/vnd.databricks.v1+cell": {
     "cellMetadata": {
      "byteLimit": 2048000,
      "rowLimit": 10000
     },
     "inputWidgets": {},
     "nuid": "68c3231d-552c-4efa-b9b1-e4a0da4e262a",
     "showTitle": false,
     "title": ""
    }
   },
   "outputs": [
    {
     "output_type": "stream",
     "name": "stdout",
     "output_type": "stream",
     "text": [
      "Out[5]: [FileInfo(path='dbfs:/FileStore/tables/CT_fires_2015.csv', name='CT_fires_2015.csv', size=23418010, modificationTime=1714435725000),\n FileInfo(path='dbfs:/FileStore/tables/Databricks_demo_solution-1.dbc', name='Databricks_demo_solution-1.dbc', size=705569, modificationTime=1714436247000),\n FileInfo(path='dbfs:/FileStore/tables/Databricks_demo_solution.dbc', name='Databricks_demo_solution.dbc', size=705569, modificationTime=1714435467000),\n FileInfo(path='dbfs:/FileStore/tables/categories.csv', name='categories.csv', size=2457, modificationTime=1714441589000),\n FileInfo(path='dbfs:/FileStore/tables/customers.csv', name='customers.csv', size=11521, modificationTime=1714441589000),\n FileInfo(path='dbfs:/FileStore/tables/employee_territories.csv', name='employee_territories.csv', size=403, modificationTime=1714441589000),\n FileInfo(path='dbfs:/FileStore/tables/employees.csv', name='employees.csv', size=6146, modificationTime=1714441589000),\n FileInfo(path='dbfs:/FileStore/tables/food_prices.parquet', name='food_prices.parquet', size=1394, modificationTime=1714436659000),\n FileInfo(path='dbfs:/FileStore/tables/order_details.csv', name='order_details.csv', size=45142, modificationTime=1714441590000),\n FileInfo(path='dbfs:/FileStore/tables/orders.csv', name='orders.csv', size=130626, modificationTime=1714441590000),\n FileInfo(path='dbfs:/FileStore/tables/products.csv', name='products.csv', size=4413, modificationTime=1714441590000),\n FileInfo(path='dbfs:/FileStore/tables/regions.csv', name='regions.csv', size=197, modificationTime=1714441591000),\n FileInfo(path='dbfs:/FileStore/tables/shippers.csv', name='shippers.csv', size=126, modificationTime=1714441591000),\n FileInfo(path='dbfs:/FileStore/tables/species.csv', name='species.csv', size=1660, modificationTime=1714439590000),\n FileInfo(path='dbfs:/FileStore/tables/suppliers.csv', name='suppliers.csv', size=4007, modificationTime=1714441591000),\n FileInfo(path='dbfs:/FileStore/tables/surveys.csv', name='surveys.csv', size=1057138, modificationTime=1714439593000),\n FileInfo(path='dbfs:/FileStore/tables/territories.csv', name='territories.csv', size=953, modificationTime=1714441591000),\n FileInfo(path='dbfs:/FileStore/tables/user_device.csv', name='user_device.csv', size=17780, modificationTime=1714438721000),\n FileInfo(path='dbfs:/FileStore/tables/user_usage.csv', name='user_usage.csv', size=10088, modificationTime=1714438721000),\n FileInfo(path='dbfs:/FileStore/tables/vehicles-1.csv', name='vehicles-1.csv', size=116901, modificationTime=1714438111000),\n FileInfo(path='dbfs:/FileStore/tables/vehicles.csv', name='vehicles.csv', size=116901, modificationTime=1714437987000),\n FileInfo(path='dbfs:/FileStore/tables/vehicles.parquet', name='vehicles.parquet', size=4975246, modificationTime=1714438012000)]"
     ]
    }
   ],
   "source": [
    "# Show available files\n",
    "dbutils.fs.ls('/FileStore/tables/')"
   ]
  },
  {
   "cell_type": "code",
   "execution_count": 0,
   "metadata": {
    "application/vnd.databricks.v1+cell": {
     "cellMetadata": {
      "byteLimit": 2048000,
      "rowLimit": 10000
     },
     "inputWidgets": {},
     "nuid": "400380e4-d74d-4c09-a072-534491a3c77c",
     "showTitle": false,
     "title": ""
    }
   },
   "outputs": [],
   "source": [
    "file_links = {\n",
    "      \"categories\": \"s3://2u-data-curriculum-team/dataviz-classroom/v1.2/22-big-data/4/categories.csv\",\n",
    "      \"customers\": \"s3://2u-data-curriculum-team/dataviz-classroom/v1.2/22-big-data/4/customers.csv\",\n",
    "      \"employee_territories\": \"s3://2u-data-curriculum-team/dataviz-classroom/v1.2/22-big-data/4/employee-territories.csv\",\n",
    "      \"employees\": \"s3://2u-data-curriculum-team/dataviz-classroom/v1.2/22-big-data/4/employees.csv\",\n",
    "      \"order_details\": \"s3://2u-data-curriculum-team/dataviz-classroom/v1.2/22-big-data/4/order-details.csv\",\n",
    "      \"orders\": \"s3://2u-data-curriculum-team/dataviz-classroom/v1.2/22-big-data/4/orders.csv\",\n",
    "      \"products\": \"s3://2u-data-curriculum-team/dataviz-classroom/v1.2/22-big-data/4/products.csv\",\n",
    "      \"regions\": \"s3://2u-data-curriculum-team/dataviz-classroom/v1.2/22-big-data/4/regions.csv\",\n",
    "      \"shippers\": \"s3://2u-data-curriculum-team/dataviz-classroom/v1.2/22-big-data/4/shippers.csv\",\n",
    "      \"suppliers\": \"s3://2u-data-curriculum-team/dataviz-classroom/v1.2/22-big-data/4/suppliers.csv\",\n",
    "      \"territories\": \"s3://2u-data-curriculum-team/dataviz-classroom/v1.2/22-big-data/4/territories.csv\"\n",
    "  }"
   ]
  },
  {
   "cell_type": "code",
   "execution_count": 0,
   "metadata": {
    "application/vnd.databricks.v1+cell": {
     "cellMetadata": {
      "byteLimit": 2048000,
      "rowLimit": 10000
     },
     "inputWidgets": {},
     "nuid": "bd82bb99-1479-4d5c-be10-8c36df0f1d44",
     "showTitle": false,
     "title": ""
    }
   },
   "outputs": [
    {
     "output_type": "stream",
     "name": "stdout",
     "output_type": "stream",
     "text": [
      "Created DataFrame and temporary view for categories\nCreated DataFrame and temporary view for customers\nCreated DataFrame and temporary view for employee_territories\nCreated DataFrame and temporary view for employees\nCreated DataFrame and temporary view for order_details\nCreated DataFrame and temporary view for orders\nCreated DataFrame and temporary view for products\nCreated DataFrame and temporary view for regions\nCreated DataFrame and temporary view for shippers\nCreated DataFrame and temporary view for suppliers\nCreated DataFrame and temporary view for territories\nAll files processed successfully.\n"
     ]
    }
   ],
   "source": [
    "#  Use a for loop to read in the CSV files using the provided links to create a Spark DataFrame for each file and then create temporary views of each DataFrame.\n",
    "# Iterate over the file_links dictionary\n",
    "for name, link in file_links.items():\n",
    "    # Read the CSV file into a Spark DataFrame\n",
    "    df = spark.read.csv(link, inferSchema=True, header=True)\n",
    "    \n",
    "    # Create a temporary view of the DataFrame\n",
    "    df.createOrReplaceTempView(name)\n",
    "\n",
    "    # Print confirmation\n",
    "    print(f\"Created DataFrame and temporary view for {name}\")\n",
    "\n",
    "# Print confirmation after all files are processed\n",
    "print(\"All files processed successfully.\")"
   ]
  },
  {
   "cell_type": "code",
   "execution_count": 0,
   "metadata": {
    "application/vnd.databricks.v1+cell": {
     "cellMetadata": {
      "byteLimit": 2048000,
      "rowLimit": 10000
     },
     "inputWidgets": {},
     "nuid": "0d11313c-e710-40ef-9829-c82800e2e208",
     "showTitle": false,
     "title": ""
    }
   },
   "outputs": [
    {
     "output_type": "stream",
     "name": "stdout",
     "output_type": "stream",
     "text": [
      "Out[8]: [Table(name='categories', catalog=None, namespace=[], description=None, tableType='TEMPORARY', isTemporary=True),\n Table(name='customers', catalog=None, namespace=[], description=None, tableType='TEMPORARY', isTemporary=True),\n Table(name='employee_territories', catalog=None, namespace=[], description=None, tableType='TEMPORARY', isTemporary=True),\n Table(name='employees', catalog=None, namespace=[], description=None, tableType='TEMPORARY', isTemporary=True),\n Table(name='order_details', catalog=None, namespace=[], description=None, tableType='TEMPORARY', isTemporary=True),\n Table(name='orders', catalog=None, namespace=[], description=None, tableType='TEMPORARY', isTemporary=True),\n Table(name='products', catalog=None, namespace=[], description=None, tableType='TEMPORARY', isTemporary=True),\n Table(name='regions', catalog=None, namespace=[], description=None, tableType='TEMPORARY', isTemporary=True),\n Table(name='shippers', catalog=None, namespace=[], description=None, tableType='TEMPORARY', isTemporary=True),\n Table(name='suppliers', catalog=None, namespace=[], description=None, tableType='TEMPORARY', isTemporary=True),\n Table(name='territories', catalog=None, namespace=[], description=None, tableType='TEMPORARY', isTemporary=True)]"
     ]
    }
   ],
   "source": [
    "# List all the tables.\n",
    "spark.catalog.listTables()"
   ]
  },
  {
   "cell_type": "code",
   "execution_count": 0,
   "metadata": {
    "application/vnd.databricks.v1+cell": {
     "cellMetadata": {
      "byteLimit": 2048000,
      "implicitDf": true,
      "rowLimit": 10000
     },
     "inputWidgets": {},
     "nuid": "98d50c7d-59cd-438c-992d-46331938fff2",
     "showTitle": false,
     "title": ""
    }
   },
   "outputs": [
    {
     "output_type": "display_data",
     "data": {
      "text/html": [
       "<style scoped>\n",
       "  .table-result-container {\n",
       "    max-height: 300px;\n",
       "    overflow: auto;\n",
       "  }\n",
       "  table, th, td {\n",
       "    border: 1px solid black;\n",
       "    border-collapse: collapse;\n",
       "  }\n",
       "  th, td {\n",
       "    padding: 5px;\n",
       "  }\n",
       "  th {\n",
       "    text-align: left;\n",
       "  }\n",
       "</style><div class='table-result-container'><table class='table-result'><thead style='background-color: white'><tr><th>ShipCountry</th></tr></thead><tbody><tr><td>Sweden</td></tr><tr><td>Germany</td></tr><tr><td>France</td></tr><tr><td>Argentina</td></tr><tr><td>Belgium</td></tr><tr><td>Finland</td></tr><tr><td>Italy</td></tr><tr><td>Norway</td></tr><tr><td>Spain</td></tr><tr><td>Denmark</td></tr><tr><td>Ireland</td></tr><tr><td>Venezuela</td></tr><tr><td>USA</td></tr><tr><td>Mexico</td></tr><tr><td>UK</td></tr><tr><td>Switzerland</td></tr><tr><td>Canada</td></tr><tr><td>Brazil</td></tr><tr><td>Poland</td></tr><tr><td>Portugal</td></tr><tr><td>Austria</td></tr></tbody></table></div>"
      ]
     },
     "metadata": {
      "application/vnd.databricks.v1+output": {
       "addedWidgets": {},
       "aggData": [],
       "aggError": "",
       "aggOverflow": false,
       "aggSchema": [],
       "aggSeriesLimitReached": false,
       "aggType": "",
       "arguments": {},
       "columnCustomDisplayInfos": {},
       "data": [
        [
         "Sweden"
        ],
        [
         "Germany"
        ],
        [
         "France"
        ],
        [
         "Argentina"
        ],
        [
         "Belgium"
        ],
        [
         "Finland"
        ],
        [
         "Italy"
        ],
        [
         "Norway"
        ],
        [
         "Spain"
        ],
        [
         "Denmark"
        ],
        [
         "Ireland"
        ],
        [
         "Venezuela"
        ],
        [
         "USA"
        ],
        [
         "Mexico"
        ],
        [
         "UK"
        ],
        [
         "Switzerland"
        ],
        [
         "Canada"
        ],
        [
         "Brazil"
        ],
        [
         "Poland"
        ],
        [
         "Portugal"
        ],
        [
         "Austria"
        ]
       ],
       "datasetInfos": [],
       "dbfsResultPath": null,
       "isJsonSchema": true,
       "metadata": {},
       "overflow": false,
       "plotOptions": {
        "customPlotOptions": {},
        "displayType": "table",
        "pivotAggregation": null,
        "pivotColumns": null,
        "xColumns": null,
        "yColumns": null
       },
       "removedWidgets": [],
       "schema": [
        {
         "metadata": "{}",
         "name": "ShipCountry",
         "type": "\"string\""
        }
       ],
       "type": "table"
      }
     },
     "output_type": "display_data"
    }
   ],
   "source": [
    "%sql\n",
    "-- A list of all countries that orders have been shipped to\n",
    "SELECT DISTINCT ShipCountry\n",
    "FROM orders"
   ]
  },
  {
   "cell_type": "code",
   "execution_count": 0,
   "metadata": {
    "application/vnd.databricks.v1+cell": {
     "cellMetadata": {
      "byteLimit": 2048000,
      "implicitDf": true,
      "rowLimit": 10000
     },
     "inputWidgets": {},
     "nuid": "2d79ea43-4f74-41a2-94da-7c7f23293ebd",
     "showTitle": false,
     "title": ""
    }
   },
   "outputs": [
    {
     "output_type": "display_data",
     "data": {
      "text/html": [
       "<style scoped>\n",
       "  .table-result-container {\n",
       "    max-height: 300px;\n",
       "    overflow: auto;\n",
       "  }\n",
       "  table, th, td {\n",
       "    border: 1px solid black;\n",
       "    border-collapse: collapse;\n",
       "  }\n",
       "  th, td {\n",
       "    padding: 5px;\n",
       "  }\n",
       "  th {\n",
       "    text-align: left;\n",
       "  }\n",
       "</style><div class='table-result-container'><table class='table-result'><thead style='background-color: white'><tr><th>total_orders</th></tr></thead><tbody><tr><td>830</td></tr></tbody></table></div>"
      ]
     },
     "metadata": {
      "application/vnd.databricks.v1+output": {
       "addedWidgets": {},
       "aggData": [],
       "aggError": "",
       "aggOverflow": false,
       "aggSchema": [],
       "aggSeriesLimitReached": false,
       "aggType": "",
       "arguments": {},
       "columnCustomDisplayInfos": {},
       "data": [
        [
         830
        ]
       ],
       "datasetInfos": [],
       "dbfsResultPath": null,
       "isJsonSchema": true,
       "metadata": {},
       "overflow": false,
       "plotOptions": {
        "customPlotOptions": {},
        "displayType": "table",
        "pivotAggregation": null,
        "pivotColumns": null,
        "xColumns": null,
        "yColumns": null
       },
       "removedWidgets": [],
       "schema": [
        {
         "metadata": "{}",
         "name": "total_orders",
         "type": "\"long\""
        }
       ],
       "type": "table"
      }
     },
     "output_type": "display_data"
    }
   ],
   "source": [
    "%sql\n",
    "-- How many total orders have been placed?\n",
    "SELECT COUNT(*) AS total_orders\n",
    "FROM orders"
   ]
  },
  {
   "cell_type": "code",
   "execution_count": 0,
   "metadata": {
    "application/vnd.databricks.v1+cell": {
     "cellMetadata": {
      "byteLimit": 2048000,
      "implicitDf": true,
      "rowLimit": 10000
     },
     "inputWidgets": {},
     "nuid": "d7cd7a99-ee75-4754-a879-a034bb6b6865",
     "showTitle": false,
     "title": ""
    }
   },
   "outputs": [
    {
     "output_type": "display_data",
     "data": {
      "text/html": [
       "<style scoped>\n",
       "  .table-result-container {\n",
       "    max-height: 300px;\n",
       "    overflow: auto;\n",
       "  }\n",
       "  table, th, td {\n",
       "    border: 1px solid black;\n",
       "    border-collapse: collapse;\n",
       "  }\n",
       "  th, td {\n",
       "    padding: 5px;\n",
       "  }\n",
       "  th {\n",
       "    text-align: left;\n",
       "  }\n",
       "</style><div class='table-result-container'><table class='table-result'><thead style='background-color: white'><tr><th>ShipCountry</th><th>num_orders</th></tr></thead><tbody><tr><td>Germany</td><td>122</td></tr><tr><td>USA</td><td>122</td></tr><tr><td>Brazil</td><td>83</td></tr><tr><td>France</td><td>77</td></tr><tr><td>UK</td><td>56</td></tr><tr><td>Venezuela</td><td>46</td></tr><tr><td>Austria</td><td>40</td></tr><tr><td>Sweden</td><td>37</td></tr><tr><td>Canada</td><td>30</td></tr><tr><td>Italy</td><td>28</td></tr><tr><td>Mexico</td><td>28</td></tr><tr><td>Spain</td><td>23</td></tr><tr><td>Finland</td><td>22</td></tr><tr><td>Belgium</td><td>19</td></tr><tr><td>Ireland</td><td>19</td></tr><tr><td>Denmark</td><td>18</td></tr><tr><td>Switzerland</td><td>18</td></tr><tr><td>Argentina</td><td>16</td></tr><tr><td>Portugal</td><td>13</td></tr><tr><td>Poland</td><td>7</td></tr><tr><td>Norway</td><td>6</td></tr></tbody></table></div>"
      ]
     },
     "metadata": {
      "application/vnd.databricks.v1+output": {
       "addedWidgets": {},
       "aggData": [],
       "aggError": "",
       "aggOverflow": false,
       "aggSchema": [],
       "aggSeriesLimitReached": false,
       "aggType": "",
       "arguments": {},
       "columnCustomDisplayInfos": {},
       "data": [
        [
         "Germany",
         122
        ],
        [
         "USA",
         122
        ],
        [
         "Brazil",
         83
        ],
        [
         "France",
         77
        ],
        [
         "UK",
         56
        ],
        [
         "Venezuela",
         46
        ],
        [
         "Austria",
         40
        ],
        [
         "Sweden",
         37
        ],
        [
         "Canada",
         30
        ],
        [
         "Italy",
         28
        ],
        [
         "Mexico",
         28
        ],
        [
         "Spain",
         23
        ],
        [
         "Finland",
         22
        ],
        [
         "Belgium",
         19
        ],
        [
         "Ireland",
         19
        ],
        [
         "Denmark",
         18
        ],
        [
         "Switzerland",
         18
        ],
        [
         "Argentina",
         16
        ],
        [
         "Portugal",
         13
        ],
        [
         "Poland",
         7
        ],
        [
         "Norway",
         6
        ]
       ],
       "datasetInfos": [],
       "dbfsResultPath": null,
       "isJsonSchema": true,
       "metadata": {},
       "overflow": false,
       "plotOptions": {
        "customPlotOptions": {},
        "displayType": "plotlyBar",
        "pivotAggregation": null,
        "pivotColumns": null,
        "xColumns": null,
        "yColumns": null
       },
       "removedWidgets": [],
       "schema": [
        {
         "metadata": "{}",
         "name": "ShipCountry",
         "type": "\"string\""
        },
        {
         "metadata": "{}",
         "name": "num_orders",
         "type": "\"long\""
        }
       ],
       "type": "table"
      }
     },
     "output_type": "display_data"
    }
   ],
   "source": [
    "%sql\n",
    "-- How many orders have been shipped to each country?\n",
    "SELECT ShipCountry, COUNT(*) AS num_orders\n",
    "FROM orders\n",
    "GROUP BY ShipCountry\n",
    "ORDER BY num_orders DESC\n"
   ]
  },
  {
   "cell_type": "code",
   "execution_count": 0,
   "metadata": {
    "application/vnd.databricks.v1+cell": {
     "cellMetadata": {
      "byteLimit": 2048000,
      "implicitDf": true,
      "rowLimit": 10000
     },
     "inputWidgets": {},
     "nuid": "b5ba8c5c-3ac0-4e15-b1c6-063deef194fe",
     "showTitle": false,
     "title": ""
    }
   },
   "outputs": [
    {
     "output_type": "display_data",
     "data": {
      "text/html": [
       "<style scoped>\n",
       "  .table-result-container {\n",
       "    max-height: 300px;\n",
       "    overflow: auto;\n",
       "  }\n",
       "  table, th, td {\n",
       "    border: 1px solid black;\n",
       "    border-collapse: collapse;\n",
       "  }\n",
       "  th, td {\n",
       "    padding: 5px;\n",
       "  }\n",
       "  th {\n",
       "    text-align: left;\n",
       "  }\n",
       "</style><div class='table-result-container'><table class='table-result'><thead style='background-color: white'><tr><th>ProductID</th><th>ProductName</th><th>CompanyName</th></tr></thead><tbody><tr><td>1</td><td>Chai</td><td>Exotic Liquids</td></tr><tr><td>2</td><td>Chang</td><td>Exotic Liquids</td></tr><tr><td>3</td><td>Aniseed Syrup</td><td>Exotic Liquids</td></tr><tr><td>4</td><td>Chef Anton's Cajun Seasoning</td><td>New Orleans Cajun Delights</td></tr><tr><td>5</td><td>Chef Anton's Gumbo Mix</td><td>New Orleans Cajun Delights</td></tr><tr><td>6</td><td>Grandma's Boysenberry Spread</td><td>Grandma Kelly's Homestead</td></tr><tr><td>7</td><td>Uncle Bob's Organic Dried Pears</td><td>Grandma Kelly's Homestead</td></tr><tr><td>8</td><td>Northwoods Cranberry Sauce</td><td>Grandma Kelly's Homestead</td></tr><tr><td>9</td><td>Mishi Kobe Niku</td><td>Tokyo Traders</td></tr><tr><td>10</td><td>Ikura</td><td>Tokyo Traders</td></tr><tr><td>11</td><td>Queso Cabrales</td><td>Cooperativa de Quesos 'Las Cabras'</td></tr><tr><td>12</td><td>Queso Manchego La Pastora</td><td>Cooperativa de Quesos 'Las Cabras'</td></tr><tr><td>13</td><td>Konbu</td><td>Mayumi's</td></tr><tr><td>14</td><td>Tofu</td><td>Mayumi's</td></tr><tr><td>15</td><td>Genen Shouyu</td><td>Mayumi's</td></tr><tr><td>16</td><td>Pavlova</td><td>Pavlova, Ltd.</td></tr><tr><td>17</td><td>Alice Mutton</td><td>Pavlova, Ltd.</td></tr><tr><td>18</td><td>Carnarvon Tigers</td><td>Pavlova, Ltd.</td></tr><tr><td>19</td><td>Teatime Chocolate Biscuits</td><td>Specialty Biscuits, Ltd.</td></tr><tr><td>20</td><td>Sir Rodney's Marmalade</td><td>Specialty Biscuits, Ltd.</td></tr><tr><td>21</td><td>Sir Rodney's Scones</td><td>Specialty Biscuits, Ltd.</td></tr><tr><td>22</td><td>Gustaf's Knäckebröd</td><td>PB Knäckebröd AB</td></tr><tr><td>23</td><td>Tunnbröd</td><td>PB Knäckebröd AB</td></tr><tr><td>24</td><td>Guaraná Fantástica</td><td>Refrescos Americanas LTDA</td></tr><tr><td>25</td><td>NuNuCa Nuß-Nougat-Creme</td><td>Heli Süßwaren GmbH & Co. KG</td></tr><tr><td>26</td><td>Gumbär Gummibärchen</td><td>Heli Süßwaren GmbH & Co. KG</td></tr><tr><td>27</td><td>Schoggi Schokolade</td><td>Heli Süßwaren GmbH & Co. KG</td></tr><tr><td>28</td><td>Rössle Sauerkraut</td><td>Plutzer Lebensmittelgroßmärkte AG</td></tr><tr><td>29</td><td>Thüringer Rostbratwurst</td><td>Plutzer Lebensmittelgroßmärkte AG</td></tr><tr><td>30</td><td>Nord-Ost Matjeshering</td><td>Nord-Ost-Fisch Handelsgesellschaft mbH</td></tr><tr><td>31</td><td>Gorgonzola Telino</td><td>Formaggi Fortini s.r.l.</td></tr><tr><td>32</td><td>Mascarpone Fabioli</td><td>Formaggi Fortini s.r.l.</td></tr><tr><td>33</td><td>Geitost</td><td>Norske Meierier</td></tr><tr><td>34</td><td>Sasquatch Ale</td><td>Bigfoot Breweries</td></tr><tr><td>35</td><td>Steeleye Stout</td><td>Bigfoot Breweries</td></tr><tr><td>36</td><td>Inlagd Sill</td><td>Svensk Sjöföda AB</td></tr><tr><td>37</td><td>Gravad lax</td><td>Svensk Sjöföda AB</td></tr><tr><td>38</td><td>Côte de Blaye</td><td>Aux joyeux ecclésiastiques</td></tr><tr><td>39</td><td>Chartreuse verte</td><td>Aux joyeux ecclésiastiques</td></tr><tr><td>40</td><td>Boston Crab Meat</td><td>New England Seafood Cannery</td></tr><tr><td>41</td><td>Jack's New England Clam Chowder</td><td>New England Seafood Cannery</td></tr><tr><td>42</td><td>Singaporean Hokkien Fried Mee</td><td>Leka Trading</td></tr><tr><td>43</td><td>Ipoh Coffee</td><td>Leka Trading</td></tr><tr><td>44</td><td>Gula Malacca</td><td>Leka Trading</td></tr><tr><td>45</td><td>Rogede sild</td><td>Lyngbysild</td></tr><tr><td>46</td><td>Spegesild</td><td>Lyngbysild</td></tr><tr><td>47</td><td>Zaanse koeken</td><td>Zaanse Snoepfabriek</td></tr><tr><td>48</td><td>Chocolade</td><td>Zaanse Snoepfabriek</td></tr><tr><td>49</td><td>Maxilaku</td><td>Karkki Oy</td></tr><tr><td>50</td><td>Valkoinen suklaa</td><td>Karkki Oy</td></tr><tr><td>51</td><td>Manjimup Dried Apples</td><td>G'day, Mate</td></tr><tr><td>52</td><td>Filo Mix</td><td>G'day, Mate</td></tr><tr><td>53</td><td>Perth Pasties</td><td>G'day, Mate</td></tr><tr><td>54</td><td>Tourtière</td><td>Ma Maison</td></tr><tr><td>55</td><td>Pâté chinois</td><td>Ma Maison</td></tr><tr><td>56</td><td>Gnocchi di nonna Alice</td><td>Pasta Buttini s.r.l.</td></tr><tr><td>57</td><td>Ravioli Angelo</td><td>Pasta Buttini s.r.l.</td></tr><tr><td>58</td><td>Escargots de Bourgogne</td><td>Escargots Nouveaux</td></tr><tr><td>59</td><td>Raclette Courdavault</td><td>Gai pâturage</td></tr><tr><td>60</td><td>Camembert Pierrot</td><td>Gai pâturage</td></tr><tr><td>61</td><td>Sirop d'érable</td><td>Forêts d'érables</td></tr><tr><td>62</td><td>Tarte au sucre</td><td>Forêts d'érables</td></tr><tr><td>63</td><td>Vegie-spread</td><td>Pavlova, Ltd.</td></tr><tr><td>64</td><td>Wimmers gute Semmelknödel</td><td>Plutzer Lebensmittelgroßmärkte AG</td></tr><tr><td>65</td><td>Louisiana Fiery Hot Pepper Sauce</td><td>New Orleans Cajun Delights</td></tr><tr><td>66</td><td>Louisiana Hot Spiced Okra</td><td>New Orleans Cajun Delights</td></tr><tr><td>67</td><td>Laughing Lumberjack Lager</td><td>Bigfoot Breweries</td></tr><tr><td>68</td><td>Scottish Longbreads</td><td>Specialty Biscuits, Ltd.</td></tr><tr><td>69</td><td>Gudbrandsdalsost</td><td>Norske Meierier</td></tr><tr><td>70</td><td>Outback Lager</td><td>Pavlova, Ltd.</td></tr><tr><td>71</td><td>Flotemysost</td><td>Norske Meierier</td></tr><tr><td>72</td><td>Mozzarella di Giovanni</td><td>Formaggi Fortini s.r.l.</td></tr><tr><td>73</td><td>Röd Kaviar</td><td>Svensk Sjöföda AB</td></tr><tr><td>74</td><td>Longlife Tofu</td><td>Tokyo Traders</td></tr><tr><td>75</td><td>Rhönbräu Klosterbier</td><td>Plutzer Lebensmittelgroßmärkte AG</td></tr><tr><td>76</td><td>Lakkalikööri</td><td>Karkki Oy</td></tr><tr><td>77</td><td>Original Frankfurter grüne Soße</td><td>Plutzer Lebensmittelgroßmärkte AG</td></tr></tbody></table></div>"
      ]
     },
     "metadata": {
      "application/vnd.databricks.v1+output": {
       "addedWidgets": {},
       "aggData": [],
       "aggError": "",
       "aggOverflow": false,
       "aggSchema": [],
       "aggSeriesLimitReached": false,
       "aggType": "",
       "arguments": {},
       "columnCustomDisplayInfos": {},
       "data": [
        [
         1,
         "Chai",
         "Exotic Liquids"
        ],
        [
         2,
         "Chang",
         "Exotic Liquids"
        ],
        [
         3,
         "Aniseed Syrup",
         "Exotic Liquids"
        ],
        [
         4,
         "Chef Anton's Cajun Seasoning",
         "New Orleans Cajun Delights"
        ],
        [
         5,
         "Chef Anton's Gumbo Mix",
         "New Orleans Cajun Delights"
        ],
        [
         6,
         "Grandma's Boysenberry Spread",
         "Grandma Kelly's Homestead"
        ],
        [
         7,
         "Uncle Bob's Organic Dried Pears",
         "Grandma Kelly's Homestead"
        ],
        [
         8,
         "Northwoods Cranberry Sauce",
         "Grandma Kelly's Homestead"
        ],
        [
         9,
         "Mishi Kobe Niku",
         "Tokyo Traders"
        ],
        [
         10,
         "Ikura",
         "Tokyo Traders"
        ],
        [
         11,
         "Queso Cabrales",
         "Cooperativa de Quesos 'Las Cabras'"
        ],
        [
         12,
         "Queso Manchego La Pastora",
         "Cooperativa de Quesos 'Las Cabras'"
        ],
        [
         13,
         "Konbu",
         "Mayumi's"
        ],
        [
         14,
         "Tofu",
         "Mayumi's"
        ],
        [
         15,
         "Genen Shouyu",
         "Mayumi's"
        ],
        [
         16,
         "Pavlova",
         "Pavlova, Ltd."
        ],
        [
         17,
         "Alice Mutton",
         "Pavlova, Ltd."
        ],
        [
         18,
         "Carnarvon Tigers",
         "Pavlova, Ltd."
        ],
        [
         19,
         "Teatime Chocolate Biscuits",
         "Specialty Biscuits, Ltd."
        ],
        [
         20,
         "Sir Rodney's Marmalade",
         "Specialty Biscuits, Ltd."
        ],
        [
         21,
         "Sir Rodney's Scones",
         "Specialty Biscuits, Ltd."
        ],
        [
         22,
         "Gustaf's Knäckebröd",
         "PB Knäckebröd AB"
        ],
        [
         23,
         "Tunnbröd",
         "PB Knäckebröd AB"
        ],
        [
         24,
         "Guaraná Fantástica",
         "Refrescos Americanas LTDA"
        ],
        [
         25,
         "NuNuCa Nuß-Nougat-Creme",
         "Heli Süßwaren GmbH & Co. KG"
        ],
        [
         26,
         "Gumbär Gummibärchen",
         "Heli Süßwaren GmbH & Co. KG"
        ],
        [
         27,
         "Schoggi Schokolade",
         "Heli Süßwaren GmbH & Co. KG"
        ],
        [
         28,
         "Rössle Sauerkraut",
         "Plutzer Lebensmittelgroßmärkte AG"
        ],
        [
         29,
         "Thüringer Rostbratwurst",
         "Plutzer Lebensmittelgroßmärkte AG"
        ],
        [
         30,
         "Nord-Ost Matjeshering",
         "Nord-Ost-Fisch Handelsgesellschaft mbH"
        ],
        [
         31,
         "Gorgonzola Telino",
         "Formaggi Fortini s.r.l."
        ],
        [
         32,
         "Mascarpone Fabioli",
         "Formaggi Fortini s.r.l."
        ],
        [
         33,
         "Geitost",
         "Norske Meierier"
        ],
        [
         34,
         "Sasquatch Ale",
         "Bigfoot Breweries"
        ],
        [
         35,
         "Steeleye Stout",
         "Bigfoot Breweries"
        ],
        [
         36,
         "Inlagd Sill",
         "Svensk Sjöföda AB"
        ],
        [
         37,
         "Gravad lax",
         "Svensk Sjöföda AB"
        ],
        [
         38,
         "Côte de Blaye",
         "Aux joyeux ecclésiastiques"
        ],
        [
         39,
         "Chartreuse verte",
         "Aux joyeux ecclésiastiques"
        ],
        [
         40,
         "Boston Crab Meat",
         "New England Seafood Cannery"
        ],
        [
         41,
         "Jack's New England Clam Chowder",
         "New England Seafood Cannery"
        ],
        [
         42,
         "Singaporean Hokkien Fried Mee",
         "Leka Trading"
        ],
        [
         43,
         "Ipoh Coffee",
         "Leka Trading"
        ],
        [
         44,
         "Gula Malacca",
         "Leka Trading"
        ],
        [
         45,
         "Rogede sild",
         "Lyngbysild"
        ],
        [
         46,
         "Spegesild",
         "Lyngbysild"
        ],
        [
         47,
         "Zaanse koeken",
         "Zaanse Snoepfabriek"
        ],
        [
         48,
         "Chocolade",
         "Zaanse Snoepfabriek"
        ],
        [
         49,
         "Maxilaku",
         "Karkki Oy"
        ],
        [
         50,
         "Valkoinen suklaa",
         "Karkki Oy"
        ],
        [
         51,
         "Manjimup Dried Apples",
         "G'day, Mate"
        ],
        [
         52,
         "Filo Mix",
         "G'day, Mate"
        ],
        [
         53,
         "Perth Pasties",
         "G'day, Mate"
        ],
        [
         54,
         "Tourtière",
         "Ma Maison"
        ],
        [
         55,
         "Pâté chinois",
         "Ma Maison"
        ],
        [
         56,
         "Gnocchi di nonna Alice",
         "Pasta Buttini s.r.l."
        ],
        [
         57,
         "Ravioli Angelo",
         "Pasta Buttini s.r.l."
        ],
        [
         58,
         "Escargots de Bourgogne",
         "Escargots Nouveaux"
        ],
        [
         59,
         "Raclette Courdavault",
         "Gai pâturage"
        ],
        [
         60,
         "Camembert Pierrot",
         "Gai pâturage"
        ],
        [
         61,
         "Sirop d'érable",
         "Forêts d'érables"
        ],
        [
         62,
         "Tarte au sucre",
         "Forêts d'érables"
        ],
        [
         63,
         "Vegie-spread",
         "Pavlova, Ltd."
        ],
        [
         64,
         "Wimmers gute Semmelknödel",
         "Plutzer Lebensmittelgroßmärkte AG"
        ],
        [
         65,
         "Louisiana Fiery Hot Pepper Sauce",
         "New Orleans Cajun Delights"
        ],
        [
         66,
         "Louisiana Hot Spiced Okra",
         "New Orleans Cajun Delights"
        ],
        [
         67,
         "Laughing Lumberjack Lager",
         "Bigfoot Breweries"
        ],
        [
         68,
         "Scottish Longbreads",
         "Specialty Biscuits, Ltd."
        ],
        [
         69,
         "Gudbrandsdalsost",
         "Norske Meierier"
        ],
        [
         70,
         "Outback Lager",
         "Pavlova, Ltd."
        ],
        [
         71,
         "Flotemysost",
         "Norske Meierier"
        ],
        [
         72,
         "Mozzarella di Giovanni",
         "Formaggi Fortini s.r.l."
        ],
        [
         73,
         "Röd Kaviar",
         "Svensk Sjöföda AB"
        ],
        [
         74,
         "Longlife Tofu",
         "Tokyo Traders"
        ],
        [
         75,
         "Rhönbräu Klosterbier",
         "Plutzer Lebensmittelgroßmärkte AG"
        ],
        [
         76,
         "Lakkalikööri",
         "Karkki Oy"
        ],
        [
         77,
         "Original Frankfurter grüne Soße",
         "Plutzer Lebensmittelgroßmärkte AG"
        ]
       ],
       "datasetInfos": [],
       "dbfsResultPath": null,
       "isJsonSchema": true,
       "metadata": {},
       "overflow": false,
       "plotOptions": {
        "customPlotOptions": {},
        "displayType": "table",
        "pivotAggregation": null,
        "pivotColumns": null,
        "xColumns": null,
        "yColumns": null
       },
       "removedWidgets": [],
       "schema": [
        {
         "metadata": "{}",
         "name": "ProductID",
         "type": "\"integer\""
        },
        {
         "metadata": "{}",
         "name": "ProductName",
         "type": "\"string\""
        },
        {
         "metadata": "{}",
         "name": "CompanyName",
         "type": "\"string\""
        }
       ],
       "type": "table"
      }
     },
     "output_type": "display_data"
    }
   ],
   "source": [
    "%sql\n",
    "-- For each product, list its product ID, product name, and the company name\n",
    "SELECT p.ProductID, p.ProductName, s.CompanyName\n",
    "FROM products p\n",
    "JOIN suppliers s ON p.SupplierID = s.SupplierID"
   ]
  },
  {
   "cell_type": "code",
   "execution_count": 0,
   "metadata": {
    "application/vnd.databricks.v1+cell": {
     "cellMetadata": {
      "byteLimit": 2048000,
      "implicitDf": true,
      "rowLimit": 10000
     },
     "inputWidgets": {},
     "nuid": "94617223-ea6a-4f6a-afcc-41c9c5b2799d",
     "showTitle": false,
     "title": ""
    }
   },
   "outputs": [
    {
     "output_type": "display_data",
     "data": {
      "text/html": [
       "<style scoped>\n",
       "  .table-result-container {\n",
       "    max-height: 300px;\n",
       "    overflow: auto;\n",
       "  }\n",
       "  table, th, td {\n",
       "    border: 1px solid black;\n",
       "    border-collapse: collapse;\n",
       "  }\n",
       "  th, td {\n",
       "    padding: 5px;\n",
       "  }\n",
       "  th {\n",
       "    text-align: left;\n",
       "  }\n",
       "</style><div class='table-result-container'><table class='table-result'><thead style='background-color: white'><tr><th>CategoryName</th><th>num_products</th></tr></thead><tbody><tr><td>Confections</td><td>13</td></tr><tr><td>Condiments</td><td>12</td></tr><tr><td>Beverages</td><td>12</td></tr><tr><td>Seafood</td><td>12</td></tr><tr><td>Dairy Products</td><td>10</td></tr><tr><td>Grains/Cereals</td><td>7</td></tr><tr><td>Meat/Poultry</td><td>6</td></tr><tr><td>Produce</td><td>5</td></tr></tbody></table></div>"
      ]
     },
     "metadata": {
      "application/vnd.databricks.v1+output": {
       "addedWidgets": {},
       "aggData": [],
       "aggError": "",
       "aggOverflow": false,
       "aggSchema": [],
       "aggSeriesLimitReached": false,
       "aggType": "",
       "arguments": {},
       "columnCustomDisplayInfos": {},
       "data": [
        [
         "Confections",
         13
        ],
        [
         "Condiments",
         12
        ],
        [
         "Beverages",
         12
        ],
        [
         "Seafood",
         12
        ],
        [
         "Dairy Products",
         10
        ],
        [
         "Grains/Cereals",
         7
        ],
        [
         "Meat/Poultry",
         6
        ],
        [
         "Produce",
         5
        ]
       ],
       "datasetInfos": [],
       "dbfsResultPath": null,
       "isJsonSchema": true,
       "metadata": {},
       "overflow": false,
       "plotOptions": {
        "customPlotOptions": {},
        "displayType": "plotlyBar",
        "pivotAggregation": null,
        "pivotColumns": null,
        "xColumns": null,
        "yColumns": null
       },
       "removedWidgets": [],
       "schema": [
        {
         "metadata": "{}",
         "name": "CategoryName",
         "type": "\"string\""
        },
        {
         "metadata": "{}",
         "name": "num_products",
         "type": "\"long\""
        }
       ],
       "type": "table"
      }
     },
     "output_type": "display_data"
    }
   ],
   "source": [
    "%sql\n",
    "--How many products exist in each category?\n",
    "SELECT c.CategoryName, COUNT(*) AS num_products\n",
    "FROM products p\n",
    "JOIN categories c ON p.CategoryID = c.CategoryID\n",
    "GROUP BY c.CategoryName\n",
    "ORDER BY num_products DESC"
   ]
  },
  {
   "cell_type": "code",
   "execution_count": 0,
   "metadata": {
    "application/vnd.databricks.v1+cell": {
     "cellMetadata": {
      "byteLimit": 2048000,
      "implicitDf": true,
      "rowLimit": 10000
     },
     "inputWidgets": {},
     "nuid": "2d8ef517-61f2-4369-8709-996a378cacee",
     "showTitle": false,
     "title": ""
    }
   },
   "outputs": [
    {
     "output_type": "display_data",
     "data": {
      "text/html": [
       "<style scoped>\n",
       "  .table-result-container {\n",
       "    max-height: 300px;\n",
       "    overflow: auto;\n",
       "  }\n",
       "  table, th, td {\n",
       "    border: 1px solid black;\n",
       "    border-collapse: collapse;\n",
       "  }\n",
       "  th, td {\n",
       "    padding: 5px;\n",
       "  }\n",
       "  th {\n",
       "    text-align: left;\n",
       "  }\n",
       "</style><div class='table-result-container'><table class='table-result'><thead style='background-color: white'><tr><th>Country</th><th>num_customers</th></tr></thead><tbody><tr><td>USA</td><td>13</td></tr><tr><td>Germany</td><td>11</td></tr><tr><td>France</td><td>11</td></tr><tr><td>Brazil</td><td>9</td></tr><tr><td>UK</td><td>7</td></tr></tbody></table></div>"
      ]
     },
     "metadata": {
      "application/vnd.databricks.v1+output": {
       "addedWidgets": {},
       "aggData": [],
       "aggError": "",
       "aggOverflow": false,
       "aggSchema": [],
       "aggSeriesLimitReached": false,
       "aggType": "",
       "arguments": {},
       "columnCustomDisplayInfos": {},
       "data": [
        [
         "USA",
         13
        ],
        [
         "Germany",
         11
        ],
        [
         "France",
         11
        ],
        [
         "Brazil",
         9
        ],
        [
         "UK",
         7
        ]
       ],
       "datasetInfos": [],
       "dbfsResultPath": null,
       "isJsonSchema": true,
       "metadata": {},
       "overflow": false,
       "plotOptions": {
        "customPlotOptions": {},
        "displayType": "plotlyBar",
        "pivotAggregation": null,
        "pivotColumns": null,
        "xColumns": null,
        "yColumns": null
       },
       "removedWidgets": [],
       "schema": [
        {
         "metadata": "{}",
         "name": "Country",
         "type": "\"string\""
        },
        {
         "metadata": "{}",
         "name": "num_customers",
         "type": "\"long\""
        }
       ],
       "type": "table"
      }
     },
     "output_type": "display_data"
    }
   ],
   "source": [
    "%sql\n",
    "-- Which 5 countries have the most customers?\n",
    "SELECT Country, COUNT(*) AS num_customers\n",
    "FROM customers\n",
    "GROUP BY Country\n",
    "ORDER BY num_customers DESC\n",
    "LIMIT 5"
   ]
  },
  {
   "cell_type": "code",
   "execution_count": 0,
   "metadata": {
    "application/vnd.databricks.v1+cell": {
     "cellMetadata": {
      "byteLimit": 2048000,
      "implicitDf": true,
      "rowLimit": 10000
     },
     "inputWidgets": {},
     "nuid": "df4489e4-999d-4c5d-83be-5e84718d63b2",
     "showTitle": false,
     "title": ""
    }
   },
   "outputs": [
    {
     "output_type": "display_data",
     "data": {
      "text/html": [
       "<style scoped>\n",
       "  .table-result-container {\n",
       "    max-height: 300px;\n",
       "    overflow: auto;\n",
       "  }\n",
       "  table, th, td {\n",
       "    border: 1px solid black;\n",
       "    border-collapse: collapse;\n",
       "  }\n",
       "  th, td {\n",
       "    padding: 5px;\n",
       "  }\n",
       "  th {\n",
       "    text-align: left;\n",
       "  }\n",
       "</style><div class='table-result-container'><table class='table-result'><thead style='background-color: white'><tr><th>ShipCountry</th><th>avg_freight</th></tr></thead><tbody><tr><td>Austria</td><td>184.78750000000002</td></tr><tr><td>Ireland</td><td>145.01263157894738</td></tr><tr><td>USA</td><td>112.87942622950818</td></tr><tr><td>Germany</td><td>92.48590163934426</td></tr><tr><td>Sweden</td><td>87.50270270270272</td></tr></tbody></table></div>"
      ]
     },
     "metadata": {
      "application/vnd.databricks.v1+output": {
       "addedWidgets": {},
       "aggData": [],
       "aggError": "",
       "aggOverflow": false,
       "aggSchema": [],
       "aggSeriesLimitReached": false,
       "aggType": "",
       "arguments": {},
       "columnCustomDisplayInfos": {},
       "data": [
        [
         "Austria",
         184.78750000000002
        ],
        [
         "Ireland",
         145.01263157894738
        ],
        [
         "USA",
         112.87942622950818
        ],
        [
         "Germany",
         92.48590163934426
        ],
        [
         "Sweden",
         87.50270270270272
        ]
       ],
       "datasetInfos": [],
       "dbfsResultPath": null,
       "isJsonSchema": true,
       "metadata": {},
       "overflow": false,
       "plotOptions": {
        "customPlotOptions": {},
        "displayType": "plotlyBar",
        "pivotAggregation": null,
        "pivotColumns": null,
        "xColumns": null,
        "yColumns": null
       },
       "removedWidgets": [],
       "schema": [
        {
         "metadata": "{}",
         "name": "ShipCountry",
         "type": "\"string\""
        },
        {
         "metadata": "{}",
         "name": "avg_freight",
         "type": "\"double\""
        }
       ],
       "type": "table"
      }
     },
     "output_type": "display_data"
    }
   ],
   "source": [
    "%sql\n",
    "-- Which 5 countries have the heaviest shipments, on average?\n",
    "SELECT ShipCountry, AVG(Freight) AS avg_freight\n",
    "FROM orders\n",
    "GROUP BY ShipCountry\n",
    "ORDER BY avg_freight DESC\n",
    "LIMIT 5"
   ]
  },
  {
   "cell_type": "code",
   "execution_count": 0,
   "metadata": {
    "application/vnd.databricks.v1+cell": {
     "cellMetadata": {
      "byteLimit": 2048000,
      "implicitDf": true,
      "rowLimit": 10000
     },
     "inputWidgets": {},
     "nuid": "beb13d7b-b8fb-493c-9d0e-7fae8efe4529",
     "showTitle": false,
     "title": ""
    }
   },
   "outputs": [
    {
     "output_type": "display_data",
     "data": {
      "text/html": [
       "<style scoped>\n",
       "  .table-result-container {\n",
       "    max-height: 300px;\n",
       "    overflow: auto;\n",
       "  }\n",
       "  table, th, td {\n",
       "    border: 1px solid black;\n",
       "    border-collapse: collapse;\n",
       "  }\n",
       "  th, td {\n",
       "    padding: 5px;\n",
       "  }\n",
       "  th {\n",
       "    text-align: left;\n",
       "  }\n",
       "</style><div class='table-result-container'><table class='table-result'><thead style='background-color: white'><tr><th>CompanyName</th><th>num_orders</th><th>ContactName</th><th>ContactTitle</th></tr></thead><tbody><tr><td>Save-a-lot Markets</td><td>31</td><td>Jose Pavarotti</td><td>Sales Representative</td></tr><tr><td>Ernst Handel</td><td>30</td><td>Roland Mendel</td><td>Sales Manager</td></tr><tr><td>QUICK-Stop</td><td>28</td><td>Horst Kloss</td><td>Accounting Manager</td></tr><tr><td>Folk och fä HB</td><td>19</td><td>Maria Larsson</td><td>Owner</td></tr><tr><td>Hungry Owl All-Night Grocers</td><td>19</td><td>Patricia McKenna</td><td>Sales Associate</td></tr><tr><td>Berglunds snabbköp</td><td>18</td><td>Christina Berglund</td><td>Order Administrator</td></tr><tr><td>Rattlesnake Canyon Grocery</td><td>18</td><td>Paula Wilson</td><td>Assistant Sales Representative</td></tr><tr><td>HILARION-Abastos</td><td>18</td><td>Carlos Hernández</td><td>Sales Representative</td></tr><tr><td>Bon app'</td><td>17</td><td>Laurence Lebihan</td><td>Owner</td></tr><tr><td>Wartian Herkku</td><td>15</td><td>Pirkko Koskitalo</td><td>Accounting Manager</td></tr></tbody></table></div>"
      ]
     },
     "metadata": {
      "application/vnd.databricks.v1+output": {
       "addedWidgets": {},
       "aggData": [],
       "aggError": "",
       "aggOverflow": false,
       "aggSchema": [],
       "aggSeriesLimitReached": false,
       "aggType": "",
       "arguments": {},
       "columnCustomDisplayInfos": {},
       "data": [
        [
         "Save-a-lot Markets",
         31,
         "Jose Pavarotti",
         "Sales Representative"
        ],
        [
         "Ernst Handel",
         30,
         "Roland Mendel",
         "Sales Manager"
        ],
        [
         "QUICK-Stop",
         28,
         "Horst Kloss",
         "Accounting Manager"
        ],
        [
         "Folk och fä HB",
         19,
         "Maria Larsson",
         "Owner"
        ],
        [
         "Hungry Owl All-Night Grocers",
         19,
         "Patricia McKenna",
         "Sales Associate"
        ],
        [
         "Berglunds snabbköp",
         18,
         "Christina Berglund",
         "Order Administrator"
        ],
        [
         "Rattlesnake Canyon Grocery",
         18,
         "Paula Wilson",
         "Assistant Sales Representative"
        ],
        [
         "HILARION-Abastos",
         18,
         "Carlos Hernández",
         "Sales Representative"
        ],
        [
         "Bon app'",
         17,
         "Laurence Lebihan",
         "Owner"
        ],
        [
         "Wartian Herkku",
         15,
         "Pirkko Koskitalo",
         "Accounting Manager"
        ]
       ],
       "datasetInfos": [],
       "dbfsResultPath": null,
       "isJsonSchema": true,
       "metadata": {},
       "overflow": false,
       "plotOptions": {
        "customPlotOptions": {},
        "displayType": "table",
        "pivotAggregation": null,
        "pivotColumns": null,
        "xColumns": null,
        "yColumns": null
       },
       "removedWidgets": [],
       "schema": [
        {
         "metadata": "{}",
         "name": "CompanyName",
         "type": "\"string\""
        },
        {
         "metadata": "{}",
         "name": "num_orders",
         "type": "\"long\""
        },
        {
         "metadata": "{}",
         "name": "ContactName",
         "type": "\"string\""
        },
        {
         "metadata": "{}",
         "name": "ContactTitle",
         "type": "\"string\""
        }
       ],
       "type": "table"
      }
     },
     "output_type": "display_data"
    }
   ],
   "source": [
    "%sql\n",
    "-- Which 10 companies have placed the most orders?\n",
    "-- List the company contacts as well\n",
    "SELECT c.CompanyName, COUNT(*) AS num_orders, c.ContactName, c.ContactTitle\n",
    "FROM orders o\n",
    "JOIN customers c ON o.CustomerID = c.CustomerID\n",
    "GROUP BY c.CompanyName, c.ContactName, c.ContactTitle\n",
    "ORDER BY num_orders DESC\n",
    "LIMIT 10"
   ]
  },
  {
   "cell_type": "code",
   "execution_count": 0,
   "metadata": {
    "application/vnd.databricks.v1+cell": {
     "cellMetadata": {
      "byteLimit": 2048000,
      "rowLimit": 10000
     },
     "inputWidgets": {},
     "nuid": "f9c1f4fd-70d4-49b4-9446-0ad8dee7a42d",
     "showTitle": false,
     "title": ""
    }
   },
   "outputs": [
    {
     "output_type": "stream",
     "name": "stdout",
     "output_type": "stream",
     "text": [
      "root\n |-- TerritoryID: integer (nullable = true)\n |-- TerritoryDescription: string (nullable = true)\n |-- RegionID: integer (nullable = true)\n\n"
     ]
    }
   ],
   "source": [
    "df.printSchema()"
   ]
  },
  {
   "cell_type": "code",
   "execution_count": 0,
   "metadata": {
    "application/vnd.databricks.v1+cell": {
     "cellMetadata": {
      "byteLimit": 2048000,
      "implicitDf": true,
      "rowLimit": 10000
     },
     "inputWidgets": {},
     "nuid": "cc1f51bd-4981-4ab0-b928-f68957b62d06",
     "showTitle": false,
     "title": ""
    }
   },
   "outputs": [
    {
     "output_type": "display_data",
     "data": {
      "text/html": [
       "<style scoped>\n",
       "  .table-result-container {\n",
       "    max-height: 300px;\n",
       "    overflow: auto;\n",
       "  }\n",
       "  table, th, td {\n",
       "    border: 1px solid black;\n",
       "    border-collapse: collapse;\n",
       "  }\n",
       "  th, td {\n",
       "    padding: 5px;\n",
       "  }\n",
       "  th {\n",
       "    text-align: left;\n",
       "  }\n",
       "</style><div class='table-result-container'><table class='table-result'><thead style='background-color: white'><tr><th>CustomerID</th><th>CompanyName</th><th>total_spent</th></tr></thead><tbody><tr><td>SAVEA</td><td>Save-a-lot Markets</td><td>6683.700000000001</td></tr><tr><td>ERNSH</td><td>Ernst Handel</td><td>6205.39</td></tr><tr><td>QUICK</td><td>QUICK-Stop</td><td>5605.63</td></tr><tr><td>HUNGO</td><td>Hungry Owl All-Night Grocers</td><td>2755.2400000000002</td></tr><tr><td>RATTC</td><td>Rattlesnake Canyon Grocery</td><td>2134.21</td></tr><tr><td>QUEEN</td><td>Queen Cozinha</td><td>1982.6999999999998</td></tr><tr><td>FOLKO</td><td>Folk och fä HB</td><td>1678.0800000000002</td></tr><tr><td>BERGS</td><td>Berglunds snabbköp</td><td>1559.5199999999995</td></tr><tr><td>FRANK</td><td>Frankenversand</td><td>1403.44</td></tr><tr><td>MEREP</td><td>Mère Paillarde</td><td>1394.2199999999998</td></tr><tr><td>BONAP</td><td>Bon app'</td><td>1357.8700000000001</td></tr><tr><td>WHITC</td><td>White Clover Markets</td><td>1353.06</td></tr><tr><td>HILAA</td><td>HILARION-Abastos</td><td>1259.16</td></tr><tr><td>PICCO</td><td>Piccolo und mehr</td><td>1186.11</td></tr><tr><td>GREAL</td><td>Great Lakes Food Market</td><td>1087.61</td></tr><tr><td>LEHMS</td><td>Lehmanns Marktstand</td><td>1017.0300000000001</td></tr><tr><td>RICSU</td><td>Richter Supermarkt</td><td>1001.29</td></tr><tr><td>OLDWO</td><td>Old World Delicatessen</td><td>983.53</td></tr><tr><td>VAFFE</td><td>Vaffeljernet</td><td>947.3399999999999</td></tr><tr><td>SEVES</td><td>Seven Seas Imports</td><td>913.8100000000001</td></tr><tr><td>OTTIK</td><td>Ottilies Käseladen</td><td>862.7399999999999</td></tr><tr><td>EASTC</td><td>Eastern Connection</td><td>832.3399999999999</td></tr><tr><td>WARTH</td><td>Wartian Herkku</td><td>822.4799999999998</td></tr><tr><td>SUPRD</td><td>Suprêmes délices</td><td>821.2299999999999</td></tr><tr><td>KOENE</td><td>Königlich Essen</td><td>813.68</td></tr><tr><td>BOTTM</td><td>Bottom-Dollar Markets</td><td>793.95</td></tr><tr><td>LILAS</td><td>LILA-Supermercado</td><td>734.41</td></tr><tr><td>HANAR</td><td>Hanari Carnes</td><td>724.77</td></tr><tr><td>LINOD</td><td>LINO-Delicateses</td><td>673.81</td></tr><tr><td>FOLIG</td><td>Folies gourmandes</td><td>637.94</td></tr><tr><td>LAMAI</td><td>La maison d'Asie</td><td>635.8199999999999</td></tr><tr><td>RICAR</td><td>Ricardo Adocicados</td><td>632.9499999999999</td></tr><tr><td>BLONP</td><td>Blondesddsl père et fils</td><td>623.6600000000001</td></tr><tr><td>GODOS</td><td>Godos Cocina Típica</td><td>568.27</td></tr><tr><td>SPLIR</td><td>Split Rail Beer & Ale</td><td>558.67</td></tr><tr><td>VICTE</td><td>Victuailles en stock</td><td>493.25</td></tr><tr><td>TORTU</td><td>Tortuga Restaurante</td><td>475.63000000000005</td></tr><tr><td>AROUT</td><td>Around the Horn</td><td>471.95</td></tr><tr><td>MAGAA</td><td>Magazzini Alimentari Riuniti</td><td>469.75</td></tr><tr><td>MAISD</td><td>Maison Dewey</td><td>458.90999999999997</td></tr><tr><td>SIMOB</td><td>Simons bistro</td><td>448.84999999999997</td></tr><tr><td>WANDK</td><td>Die Wandernde Kuh</td><td>432.87</td></tr><tr><td>CHOPS</td><td>Chop-suey Chinese</td><td>367.24</td></tr><tr><td>PRINI</td><td>Princesa Isabel Vinhos</td><td>364.86</td></tr><tr><td>ISLAT</td><td>Island Trading</td><td>363.65</td></tr><tr><td>QUEDE</td><td>Que Delícia</td><td>327.55</td></tr><tr><td>GOURL</td><td>Gourmet Lanchonetes</td><td>322.38</td></tr><tr><td>MORGK</td><td>Morgenstern Gesundkost</td><td>322.0400000000001</td></tr><tr><td>REGGC</td><td>Reggiani Caseifici</td><td>319.56</td></tr><tr><td>OCEAN</td><td>Océano Atlántico Ltda.</td><td>306.64</td></tr><tr><td>DRACD</td><td>Drachenblut Delikatessen</td><td>306.04</td></tr><tr><td>BSBEV</td><td>B's Beverages</td><td>281.30999999999995</td></tr><tr><td>FURIB</td><td>Furia Bacalhau e Frutos do Mar</td><td>278.66999999999996</td></tr><tr><td>PERIC</td><td>Pericles Comidas clásicas</td><td>277.96</td></tr><tr><td>SANTG</td><td>Santé Gourmet</td><td>275.5</td></tr><tr><td>TRADH</td><td>Tradição Hipermercados</td><td>274.56</td></tr><tr><td>ANTON</td><td>Antonio Moreno Taquería</td><td>268.52</td></tr><tr><td>THEBI</td><td>The Big Cheese</td><td>262.09</td></tr><tr><td>FAMIA</td><td>Familia Arquibaldo</td><td>232.75000000000003</td></tr><tr><td>ALFKI</td><td>Alfreds Futterkiste</td><td>225.58</td></tr><tr><td>RANCH</td><td>Rancho grande</td><td>219.18</td></tr><tr><td>HUNGC</td><td>Hungry Coyote Import Store</td><td>207.08</td></tr><tr><td>LETSS</td><td>Let's Stop N Shop</td><td>202.11</td></tr><tr><td>WELLI</td><td>Wellington Importadora</td><td>194.71</td></tr><tr><td>BOLID</td><td>Bólido Comidas preparadas</td><td>191.17</td></tr><tr><td>COMMI</td><td>Comércio Mineiro</td><td>187.82000000000002</td></tr><tr><td>WOLZA</td><td>Wolski  Zajazd</td><td>175.73999999999998</td></tr><tr><td>FRANR</td><td>France restauration</td><td>171.42</td></tr><tr><td>BLAUS</td><td>Blauer See Delikatessen</td><td>168.26</td></tr><tr><td>THECR</td><td>The Cracker Box</td><td>129.96</td></tr><tr><td>TOMSP</td><td>Toms Spezialitäten</td><td>125.97</td></tr><tr><td>SPECD</td><td>Spécialités du monde</td><td>108.27999999999999</td></tr><tr><td>ANATR</td><td>Ana Trujillo Emparedados y helados</td><td>97.42</td></tr><tr><td>WILMK</td><td>Wilman Kala</td><td>88.41</td></tr><tr><td>LACOR</td><td>La corne d'abondance</td><td>87.49</td></tr><tr><td>LONEP</td><td>Lonesome Pine Restaurant</td><td>79.86000000000001</td></tr><tr><td>FRANS</td><td>Franchi S.p.A.</td><td>75.13000000000001</td></tr><tr><td>CACTU</td><td>Cactus Comidas para llevar</td><td>72.76</td></tr><tr><td>TRAIH</td><td>Trail's Head Gourmet Provisioners</td><td>70.01</td></tr><tr><td>GROSR</td><td>GROSELLA-Restaurante</td><td>67.80000000000001</td></tr><tr><td>ROMEY</td><td>Romero y tomillo</td><td>64.47</td></tr><tr><td>DUMON</td><td>Du monde entier</td><td>63.7</td></tr><tr><td>VINET</td><td>Vins et alcools Chevalier</td><td>58.41</td></tr><tr><td>CONSH</td><td>Consolidated Holdings</td><td>53.620000000000005</td></tr><tr><td>GALED</td><td>Galería del gastrónomo</td><td>37.980000000000004</td></tr><tr><td>NORTS</td><td>North/South</td><td>37.59</td></tr><tr><td>LAZYK</td><td>Lazy K Kountry Store</td><td>19.4</td></tr><tr><td>LAUGB</td><td>Laughing Bacchus Wine Cellars</td><td>9.92</td></tr><tr><td>CENTC</td><td>Centro comercial Moctezuma</td><td>3.25</td></tr></tbody></table></div>"
      ]
     },
     "metadata": {
      "application/vnd.databricks.v1+output": {
       "addedWidgets": {},
       "aggData": [],
       "aggError": "",
       "aggOverflow": false,
       "aggSchema": [],
       "aggSeriesLimitReached": false,
       "aggType": "",
       "arguments": {},
       "columnCustomDisplayInfos": {},
       "data": [
        [
         "SAVEA",
         "Save-a-lot Markets",
         6683.700000000001
        ],
        [
         "ERNSH",
         "Ernst Handel",
         6205.39
        ],
        [
         "QUICK",
         "QUICK-Stop",
         5605.63
        ],
        [
         "HUNGO",
         "Hungry Owl All-Night Grocers",
         2755.2400000000002
        ],
        [
         "RATTC",
         "Rattlesnake Canyon Grocery",
         2134.21
        ],
        [
         "QUEEN",
         "Queen Cozinha",
         1982.6999999999998
        ],
        [
         "FOLKO",
         "Folk och fä HB",
         1678.0800000000002
        ],
        [
         "BERGS",
         "Berglunds snabbköp",
         1559.5199999999995
        ],
        [
         "FRANK",
         "Frankenversand",
         1403.44
        ],
        [
         "MEREP",
         "Mère Paillarde",
         1394.2199999999998
        ],
        [
         "BONAP",
         "Bon app'",
         1357.8700000000001
        ],
        [
         "WHITC",
         "White Clover Markets",
         1353.06
        ],
        [
         "HILAA",
         "HILARION-Abastos",
         1259.16
        ],
        [
         "PICCO",
         "Piccolo und mehr",
         1186.11
        ],
        [
         "GREAL",
         "Great Lakes Food Market",
         1087.61
        ],
        [
         "LEHMS",
         "Lehmanns Marktstand",
         1017.0300000000001
        ],
        [
         "RICSU",
         "Richter Supermarkt",
         1001.29
        ],
        [
         "OLDWO",
         "Old World Delicatessen",
         983.53
        ],
        [
         "VAFFE",
         "Vaffeljernet",
         947.3399999999999
        ],
        [
         "SEVES",
         "Seven Seas Imports",
         913.8100000000001
        ],
        [
         "OTTIK",
         "Ottilies Käseladen",
         862.7399999999999
        ],
        [
         "EASTC",
         "Eastern Connection",
         832.3399999999999
        ],
        [
         "WARTH",
         "Wartian Herkku",
         822.4799999999998
        ],
        [
         "SUPRD",
         "Suprêmes délices",
         821.2299999999999
        ],
        [
         "KOENE",
         "Königlich Essen",
         813.68
        ],
        [
         "BOTTM",
         "Bottom-Dollar Markets",
         793.95
        ],
        [
         "LILAS",
         "LILA-Supermercado",
         734.41
        ],
        [
         "HANAR",
         "Hanari Carnes",
         724.77
        ],
        [
         "LINOD",
         "LINO-Delicateses",
         673.81
        ],
        [
         "FOLIG",
         "Folies gourmandes",
         637.94
        ],
        [
         "LAMAI",
         "La maison d'Asie",
         635.8199999999999
        ],
        [
         "RICAR",
         "Ricardo Adocicados",
         632.9499999999999
        ],
        [
         "BLONP",
         "Blondesddsl père et fils",
         623.6600000000001
        ],
        [
         "GODOS",
         "Godos Cocina Típica",
         568.27
        ],
        [
         "SPLIR",
         "Split Rail Beer & Ale",
         558.67
        ],
        [
         "VICTE",
         "Victuailles en stock",
         493.25
        ],
        [
         "TORTU",
         "Tortuga Restaurante",
         475.63000000000005
        ],
        [
         "AROUT",
         "Around the Horn",
         471.95
        ],
        [
         "MAGAA",
         "Magazzini Alimentari Riuniti",
         469.75
        ],
        [
         "MAISD",
         "Maison Dewey",
         458.90999999999997
        ],
        [
         "SIMOB",
         "Simons bistro",
         448.84999999999997
        ],
        [
         "WANDK",
         "Die Wandernde Kuh",
         432.87
        ],
        [
         "CHOPS",
         "Chop-suey Chinese",
         367.24
        ],
        [
         "PRINI",
         "Princesa Isabel Vinhos",
         364.86
        ],
        [
         "ISLAT",
         "Island Trading",
         363.65
        ],
        [
         "QUEDE",
         "Que Delícia",
         327.55
        ],
        [
         "GOURL",
         "Gourmet Lanchonetes",
         322.38
        ],
        [
         "MORGK",
         "Morgenstern Gesundkost",
         322.0400000000001
        ],
        [
         "REGGC",
         "Reggiani Caseifici",
         319.56
        ],
        [
         "OCEAN",
         "Océano Atlántico Ltda.",
         306.64
        ],
        [
         "DRACD",
         "Drachenblut Delikatessen",
         306.04
        ],
        [
         "BSBEV",
         "B's Beverages",
         281.30999999999995
        ],
        [
         "FURIB",
         "Furia Bacalhau e Frutos do Mar",
         278.66999999999996
        ],
        [
         "PERIC",
         "Pericles Comidas clásicas",
         277.96
        ],
        [
         "SANTG",
         "Santé Gourmet",
         275.5
        ],
        [
         "TRADH",
         "Tradição Hipermercados",
         274.56
        ],
        [
         "ANTON",
         "Antonio Moreno Taquería",
         268.52
        ],
        [
         "THEBI",
         "The Big Cheese",
         262.09
        ],
        [
         "FAMIA",
         "Familia Arquibaldo",
         232.75000000000003
        ],
        [
         "ALFKI",
         "Alfreds Futterkiste",
         225.58
        ],
        [
         "RANCH",
         "Rancho grande",
         219.18
        ],
        [
         "HUNGC",
         "Hungry Coyote Import Store",
         207.08
        ],
        [
         "LETSS",
         "Let's Stop N Shop",
         202.11
        ],
        [
         "WELLI",
         "Wellington Importadora",
         194.71
        ],
        [
         "BOLID",
         "Bólido Comidas preparadas",
         191.17
        ],
        [
         "COMMI",
         "Comércio Mineiro",
         187.82000000000002
        ],
        [
         "WOLZA",
         "Wolski  Zajazd",
         175.73999999999998
        ],
        [
         "FRANR",
         "France restauration",
         171.42
        ],
        [
         "BLAUS",
         "Blauer See Delikatessen",
         168.26
        ],
        [
         "THECR",
         "The Cracker Box",
         129.96
        ],
        [
         "TOMSP",
         "Toms Spezialitäten",
         125.97
        ],
        [
         "SPECD",
         "Spécialités du monde",
         108.27999999999999
        ],
        [
         "ANATR",
         "Ana Trujillo Emparedados y helados",
         97.42
        ],
        [
         "WILMK",
         "Wilman Kala",
         88.41
        ],
        [
         "LACOR",
         "La corne d'abondance",
         87.49
        ],
        [
         "LONEP",
         "Lonesome Pine Restaurant",
         79.86000000000001
        ],
        [
         "FRANS",
         "Franchi S.p.A.",
         75.13000000000001
        ],
        [
         "CACTU",
         "Cactus Comidas para llevar",
         72.76
        ],
        [
         "TRAIH",
         "Trail's Head Gourmet Provisioners",
         70.01
        ],
        [
         "GROSR",
         "GROSELLA-Restaurante",
         67.80000000000001
        ],
        [
         "ROMEY",
         "Romero y tomillo",
         64.47
        ],
        [
         "DUMON",
         "Du monde entier",
         63.7
        ],
        [
         "VINET",
         "Vins et alcools Chevalier",
         58.41
        ],
        [
         "CONSH",
         "Consolidated Holdings",
         53.620000000000005
        ],
        [
         "GALED",
         "Galería del gastrónomo",
         37.980000000000004
        ],
        [
         "NORTS",
         "North/South",
         37.59
        ],
        [
         "LAZYK",
         "Lazy K Kountry Store",
         19.4
        ],
        [
         "LAUGB",
         "Laughing Bacchus Wine Cellars",
         9.92
        ],
        [
         "CENTC",
         "Centro comercial Moctezuma",
         3.25
        ]
       ],
       "datasetInfos": [],
       "dbfsResultPath": null,
       "isJsonSchema": true,
       "metadata": {},
       "overflow": false,
       "plotOptions": {
        "customPlotOptions": {},
        "displayType": "table",
        "pivotAggregation": null,
        "pivotColumns": null,
        "xColumns": null,
        "yColumns": null
       },
       "removedWidgets": [],
       "schema": [
        {
         "metadata": "{}",
         "name": "CustomerID",
         "type": "\"string\""
        },
        {
         "metadata": "{}",
         "name": "CompanyName",
         "type": "\"string\""
        },
        {
         "metadata": "{}",
         "name": "total_spent",
         "type": "\"double\""
        }
       ],
       "type": "table"
      }
     },
     "output_type": "display_data"
    }
   ],
   "source": [
    "%sql\n",
    "-- Which customers are the biggest spenders in terms of total amount spent on orders?\n",
    "SELECT c.CustomerID, c.CompanyName, SUM(o.Freight) AS total_spent\n",
    "FROM orders o\n",
    "JOIN customers c ON o.CustomerID = c.CustomerID\n",
    "GROUP BY c.CustomerID, c.CompanyName\n",
    "-- HAVING SUM(o.Freight) > 20000\n",
    "ORDER BY total_spent DESC"
   ]
  },
  {
   "cell_type": "code",
   "execution_count": 0,
   "metadata": {
    "application/vnd.databricks.v1+cell": {
     "cellMetadata": {
      "byteLimit": 2048000,
      "implicitDf": true,
      "rowLimit": 10000
     },
     "inputWidgets": {},
     "nuid": "b08379c3-861f-49e5-99ca-6a0fa25d9dd2",
     "showTitle": false,
     "title": ""
    }
   },
   "outputs": [
    {
     "output_type": "display_data",
     "data": {
      "text/plain": [
       "\u001B[0;31m---------------------------------------------------------------------------\u001B[0m\n",
       "\u001B[0;31mAnalysisException\u001B[0m                         Traceback (most recent call last)\n",
       "File \u001B[0;32m<command-2811692914327552>:7\u001B[0m\n",
       "\u001B[1;32m      5\u001B[0m     display(df)\n",
       "\u001B[1;32m      6\u001B[0m     \u001B[38;5;28;01mreturn\u001B[39;00m df\n",
       "\u001B[0;32m----> 7\u001B[0m   _sqldf \u001B[38;5;241m=\u001B[39m \u001B[43m____databricks_percent_sql\u001B[49m\u001B[43m(\u001B[49m\u001B[43m)\u001B[49m\n",
       "\u001B[1;32m      8\u001B[0m \u001B[38;5;28;01mfinally\u001B[39;00m:\n",
       "\u001B[1;32m      9\u001B[0m   \u001B[38;5;28;01mdel\u001B[39;00m ____databricks_percent_sql\n",
       "\n",
       "File \u001B[0;32m<command-2811692914327552>:4\u001B[0m, in \u001B[0;36m____databricks_percent_sql\u001B[0;34m()\u001B[0m\n",
       "\u001B[1;32m      2\u001B[0m \u001B[38;5;28;01mdef\u001B[39;00m \u001B[38;5;21m____databricks_percent_sql\u001B[39m():\n",
       "\u001B[1;32m      3\u001B[0m   \u001B[38;5;28;01mimport\u001B[39;00m \u001B[38;5;21;01mbase64\u001B[39;00m\n",
       "\u001B[0;32m----> 4\u001B[0m   df \u001B[38;5;241m=\u001B[39m \u001B[43mspark\u001B[49m\u001B[38;5;241;43m.\u001B[39;49m\u001B[43msql\u001B[49m\u001B[43m(\u001B[49m\u001B[43mbase64\u001B[49m\u001B[38;5;241;43m.\u001B[39;49m\u001B[43mstandard_b64decode\u001B[49m\u001B[43m(\u001B[49m\u001B[38;5;124;43m\"\u001B[39;49m\u001B[38;5;124;43mLS0gV2hpY2ggY3VzdG9tZXJzIGFyZSB0aGUgYmlnZ2VzdCBzcGVuZGVycyBpbiB0ZXJtcyBvZiB0b3RhbCBhbW91bnQgc3BlbnQgb24gb3JkZXJzPwotLSBMaXN0IG9ubHkgY29tcGFuaWVzIHdpdGggYSB0b3RhbCBzcGVuZGluZyBvZiBncmVhdGVyIHRoYW4gMjAsMDAwLgpTRUxFQ1QgYy5DdXN0b21lcklELCBjLkNvbXBhbnlOYW1lLCBTVU0oby5Ub3RhbEFtb3VudCkgQVMgdG90YWxfc3BlbnQKRlJPTSBvcmRlcnMgbwpKT0lOIGN1c3RvbWVycyBjIE9OIG8uQ3VzdG9tZXJJRCA9IGMuQ3VzdG9tZXJJRApHUk9VUCBCWSBjLkN1c3RvbWVySUQsIGMuQ29tcGFueU5hbWUKSEFWSU5HIFNVTShvLlRvdGFsQW1vdW50KSA+IDIwMDAwCk9SREVSIEJZIHRvdGFsX3NwZW50IERFU0M=\u001B[39;49m\u001B[38;5;124;43m\"\u001B[39;49m\u001B[43m)\u001B[49m\u001B[38;5;241;43m.\u001B[39;49m\u001B[43mdecode\u001B[49m\u001B[43m(\u001B[49m\u001B[43m)\u001B[49m\u001B[43m)\u001B[49m\n",
       "\u001B[1;32m      5\u001B[0m   display(df)\n",
       "\u001B[1;32m      6\u001B[0m   \u001B[38;5;28;01mreturn\u001B[39;00m df\n",
       "\n",
       "File \u001B[0;32m/databricks/spark/python/pyspark/instrumentation_utils.py:48\u001B[0m, in \u001B[0;36m_wrap_function.<locals>.wrapper\u001B[0;34m(*args, **kwargs)\u001B[0m\n",
       "\u001B[1;32m     46\u001B[0m start \u001B[38;5;241m=\u001B[39m time\u001B[38;5;241m.\u001B[39mperf_counter()\n",
       "\u001B[1;32m     47\u001B[0m \u001B[38;5;28;01mtry\u001B[39;00m:\n",
       "\u001B[0;32m---> 48\u001B[0m     res \u001B[38;5;241m=\u001B[39m \u001B[43mfunc\u001B[49m\u001B[43m(\u001B[49m\u001B[38;5;241;43m*\u001B[39;49m\u001B[43margs\u001B[49m\u001B[43m,\u001B[49m\u001B[43m \u001B[49m\u001B[38;5;241;43m*\u001B[39;49m\u001B[38;5;241;43m*\u001B[39;49m\u001B[43mkwargs\u001B[49m\u001B[43m)\u001B[49m\n",
       "\u001B[1;32m     49\u001B[0m     logger\u001B[38;5;241m.\u001B[39mlog_success(\n",
       "\u001B[1;32m     50\u001B[0m         module_name, class_name, function_name, time\u001B[38;5;241m.\u001B[39mperf_counter() \u001B[38;5;241m-\u001B[39m start, signature\n",
       "\u001B[1;32m     51\u001B[0m     )\n",
       "\u001B[1;32m     52\u001B[0m     \u001B[38;5;28;01mreturn\u001B[39;00m res\n",
       "\n",
       "File \u001B[0;32m/databricks/spark/python/pyspark/sql/session.py:1387\u001B[0m, in \u001B[0;36mSparkSession.sql\u001B[0;34m(self, sqlQuery, args, **kwargs)\u001B[0m\n",
       "\u001B[1;32m   1385\u001B[0m \u001B[38;5;28;01mtry\u001B[39;00m:\n",
       "\u001B[1;32m   1386\u001B[0m     litArgs \u001B[38;5;241m=\u001B[39m {k: _to_java_column(lit(v)) \u001B[38;5;28;01mfor\u001B[39;00m k, v \u001B[38;5;129;01min\u001B[39;00m (args \u001B[38;5;129;01mor\u001B[39;00m {})\u001B[38;5;241m.\u001B[39mitems()}\n",
       "\u001B[0;32m-> 1387\u001B[0m     \u001B[38;5;28;01mreturn\u001B[39;00m DataFrame(\u001B[38;5;28;43mself\u001B[39;49m\u001B[38;5;241;43m.\u001B[39;49m\u001B[43m_jsparkSession\u001B[49m\u001B[38;5;241;43m.\u001B[39;49m\u001B[43msql\u001B[49m\u001B[43m(\u001B[49m\u001B[43msqlQuery\u001B[49m\u001B[43m,\u001B[49m\u001B[43m \u001B[49m\u001B[43mlitArgs\u001B[49m\u001B[43m)\u001B[49m, \u001B[38;5;28mself\u001B[39m)\n",
       "\u001B[1;32m   1388\u001B[0m \u001B[38;5;28;01mfinally\u001B[39;00m:\n",
       "\u001B[1;32m   1389\u001B[0m     \u001B[38;5;28;01mif\u001B[39;00m \u001B[38;5;28mlen\u001B[39m(kwargs) \u001B[38;5;241m>\u001B[39m \u001B[38;5;241m0\u001B[39m:\n",
       "\n",
       "File \u001B[0;32m/databricks/spark/python/lib/py4j-0.10.9.5-src.zip/py4j/java_gateway.py:1321\u001B[0m, in \u001B[0;36mJavaMember.__call__\u001B[0;34m(self, *args)\u001B[0m\n",
       "\u001B[1;32m   1315\u001B[0m command \u001B[38;5;241m=\u001B[39m proto\u001B[38;5;241m.\u001B[39mCALL_COMMAND_NAME \u001B[38;5;241m+\u001B[39m\\\n",
       "\u001B[1;32m   1316\u001B[0m     \u001B[38;5;28mself\u001B[39m\u001B[38;5;241m.\u001B[39mcommand_header \u001B[38;5;241m+\u001B[39m\\\n",
       "\u001B[1;32m   1317\u001B[0m     args_command \u001B[38;5;241m+\u001B[39m\\\n",
       "\u001B[1;32m   1318\u001B[0m     proto\u001B[38;5;241m.\u001B[39mEND_COMMAND_PART\n",
       "\u001B[1;32m   1320\u001B[0m answer \u001B[38;5;241m=\u001B[39m \u001B[38;5;28mself\u001B[39m\u001B[38;5;241m.\u001B[39mgateway_client\u001B[38;5;241m.\u001B[39msend_command(command)\n",
       "\u001B[0;32m-> 1321\u001B[0m return_value \u001B[38;5;241m=\u001B[39m \u001B[43mget_return_value\u001B[49m\u001B[43m(\u001B[49m\n",
       "\u001B[1;32m   1322\u001B[0m \u001B[43m    \u001B[49m\u001B[43manswer\u001B[49m\u001B[43m,\u001B[49m\u001B[43m \u001B[49m\u001B[38;5;28;43mself\u001B[39;49m\u001B[38;5;241;43m.\u001B[39;49m\u001B[43mgateway_client\u001B[49m\u001B[43m,\u001B[49m\u001B[43m \u001B[49m\u001B[38;5;28;43mself\u001B[39;49m\u001B[38;5;241;43m.\u001B[39;49m\u001B[43mtarget_id\u001B[49m\u001B[43m,\u001B[49m\u001B[43m \u001B[49m\u001B[38;5;28;43mself\u001B[39;49m\u001B[38;5;241;43m.\u001B[39;49m\u001B[43mname\u001B[49m\u001B[43m)\u001B[49m\n",
       "\u001B[1;32m   1324\u001B[0m \u001B[38;5;28;01mfor\u001B[39;00m temp_arg \u001B[38;5;129;01min\u001B[39;00m temp_args:\n",
       "\u001B[1;32m   1325\u001B[0m     temp_arg\u001B[38;5;241m.\u001B[39m_detach()\n",
       "\n",
       "File \u001B[0;32m/databricks/spark/python/pyspark/errors/exceptions.py:234\u001B[0m, in \u001B[0;36mcapture_sql_exception.<locals>.deco\u001B[0;34m(*a, **kw)\u001B[0m\n",
       "\u001B[1;32m    230\u001B[0m converted \u001B[38;5;241m=\u001B[39m convert_exception(e\u001B[38;5;241m.\u001B[39mjava_exception)\n",
       "\u001B[1;32m    231\u001B[0m \u001B[38;5;28;01mif\u001B[39;00m \u001B[38;5;129;01mnot\u001B[39;00m \u001B[38;5;28misinstance\u001B[39m(converted, UnknownException):\n",
       "\u001B[1;32m    232\u001B[0m     \u001B[38;5;66;03m# Hide where the exception came from that shows a non-Pythonic\u001B[39;00m\n",
       "\u001B[1;32m    233\u001B[0m     \u001B[38;5;66;03m# JVM exception message.\u001B[39;00m\n",
       "\u001B[0;32m--> 234\u001B[0m     \u001B[38;5;28;01mraise\u001B[39;00m converted \u001B[38;5;28;01mfrom\u001B[39;00m \u001B[38;5;28mNone\u001B[39m\n",
       "\u001B[1;32m    235\u001B[0m \u001B[38;5;28;01melse\u001B[39;00m:\n",
       "\u001B[1;32m    236\u001B[0m     \u001B[38;5;28;01mraise\u001B[39;00m\n",
       "\n",
       "\u001B[0;31mAnalysisException\u001B[0m: [UNRESOLVED_COLUMN.WITH_SUGGESTION] A column or function parameter with name `o`.`TotalAmount` cannot be resolved. Did you mean one of the following? [`c`.`PostalCode`, `o`.`ShipCountry`, `c`.`ContactName`, `c`.`ContactTitle`, `c`.`Country`].; line 3 pos 40;\n",
       "'Sort ['total_spent DESC NULLS LAST], true\n",
       "+- 'UnresolvedHaving ('SUM('o.TotalAmount) > 20000)\n",
       "   +- 'Aggregate [CustomerID#459, CompanyName#460], [CustomerID#459, CompanyName#460, 'SUM('o.TotalAmount) AS total_spent#3639]\n",
       "      +- Join Inner, (CustomerID#600 = ContactName#461)\n",
       "         :- SubqueryAlias o\n",
       "         :  +- SubqueryAlias orders\n",
       "         :     +- View (`orders`, [OrderID#599,CustomerID#600,EmployeeID#601,OrderDate#602,RequiredDate#603,ShippedDate#604,ShipVia#605,Freight#606,ShipName#607,ShipAddress#608,ShipCity#609,ShipRegion#610,ShipPostalCode#611,ShipCountry#612])\n",
       "         :        +- Relation [OrderID#599,CustomerID#600,EmployeeID#601,OrderDate#602,RequiredDate#603,ShippedDate#604,ShipVia#605,Freight#606,ShipName#607,ShipAddress#608,ShipCity#609,ShipRegion#610,ShipPostalCode#611,ShipCountry#612] csv\n",
       "         +- SubqueryAlias c\n",
       "            +- SubqueryAlias customers\n",
       "               +- View (`customers`, [CustomerID#459,CompanyName#460,ContactName#461,ContactTitle#462,Address#463,City#464,Region#465,PostalCode#466,Country#467,Phone#468,Fax#469])\n",
       "                  +- Relation [CustomerID#459,CompanyName#460,ContactName#461,ContactTitle#462,Address#463,City#464,Region#465,PostalCode#466,Country#467,Phone#468,Fax#469] csv\n"
      ]
     },
     "metadata": {
      "application/vnd.databricks.v1+output": {
       "arguments": {},
       "data": "\u001B[0;31m---------------------------------------------------------------------------\u001B[0m\n\u001B[0;31mAnalysisException\u001B[0m                         Traceback (most recent call last)\nFile \u001B[0;32m<command-2811692914327552>:7\u001B[0m\n\u001B[1;32m      5\u001B[0m     display(df)\n\u001B[1;32m      6\u001B[0m     \u001B[38;5;28;01mreturn\u001B[39;00m df\n\u001B[0;32m----> 7\u001B[0m   _sqldf \u001B[38;5;241m=\u001B[39m \u001B[43m____databricks_percent_sql\u001B[49m\u001B[43m(\u001B[49m\u001B[43m)\u001B[49m\n\u001B[1;32m      8\u001B[0m \u001B[38;5;28;01mfinally\u001B[39;00m:\n\u001B[1;32m      9\u001B[0m   \u001B[38;5;28;01mdel\u001B[39;00m ____databricks_percent_sql\n\nFile \u001B[0;32m<command-2811692914327552>:4\u001B[0m, in \u001B[0;36m____databricks_percent_sql\u001B[0;34m()\u001B[0m\n\u001B[1;32m      2\u001B[0m \u001B[38;5;28;01mdef\u001B[39;00m \u001B[38;5;21m____databricks_percent_sql\u001B[39m():\n\u001B[1;32m      3\u001B[0m   \u001B[38;5;28;01mimport\u001B[39;00m \u001B[38;5;21;01mbase64\u001B[39;00m\n\u001B[0;32m----> 4\u001B[0m   df \u001B[38;5;241m=\u001B[39m \u001B[43mspark\u001B[49m\u001B[38;5;241;43m.\u001B[39;49m\u001B[43msql\u001B[49m\u001B[43m(\u001B[49m\u001B[43mbase64\u001B[49m\u001B[38;5;241;43m.\u001B[39;49m\u001B[43mstandard_b64decode\u001B[49m\u001B[43m(\u001B[49m\u001B[38;5;124;43m\"\u001B[39;49m\u001B[38;5;124;43mLS0gV2hpY2ggY3VzdG9tZXJzIGFyZSB0aGUgYmlnZ2VzdCBzcGVuZGVycyBpbiB0ZXJtcyBvZiB0b3RhbCBhbW91bnQgc3BlbnQgb24gb3JkZXJzPwotLSBMaXN0IG9ubHkgY29tcGFuaWVzIHdpdGggYSB0b3RhbCBzcGVuZGluZyBvZiBncmVhdGVyIHRoYW4gMjAsMDAwLgpTRUxFQ1QgYy5DdXN0b21lcklELCBjLkNvbXBhbnlOYW1lLCBTVU0oby5Ub3RhbEFtb3VudCkgQVMgdG90YWxfc3BlbnQKRlJPTSBvcmRlcnMgbwpKT0lOIGN1c3RvbWVycyBjIE9OIG8uQ3VzdG9tZXJJRCA9IGMuQ3VzdG9tZXJJRApHUk9VUCBCWSBjLkN1c3RvbWVySUQsIGMuQ29tcGFueU5hbWUKSEFWSU5HIFNVTShvLlRvdGFsQW1vdW50KSA+IDIwMDAwCk9SREVSIEJZIHRvdGFsX3NwZW50IERFU0M=\u001B[39;49m\u001B[38;5;124;43m\"\u001B[39;49m\u001B[43m)\u001B[49m\u001B[38;5;241;43m.\u001B[39;49m\u001B[43mdecode\u001B[49m\u001B[43m(\u001B[49m\u001B[43m)\u001B[49m\u001B[43m)\u001B[49m\n\u001B[1;32m      5\u001B[0m   display(df)\n\u001B[1;32m      6\u001B[0m   \u001B[38;5;28;01mreturn\u001B[39;00m df\n\nFile \u001B[0;32m/databricks/spark/python/pyspark/instrumentation_utils.py:48\u001B[0m, in \u001B[0;36m_wrap_function.<locals>.wrapper\u001B[0;34m(*args, **kwargs)\u001B[0m\n\u001B[1;32m     46\u001B[0m start \u001B[38;5;241m=\u001B[39m time\u001B[38;5;241m.\u001B[39mperf_counter()\n\u001B[1;32m     47\u001B[0m \u001B[38;5;28;01mtry\u001B[39;00m:\n\u001B[0;32m---> 48\u001B[0m     res \u001B[38;5;241m=\u001B[39m \u001B[43mfunc\u001B[49m\u001B[43m(\u001B[49m\u001B[38;5;241;43m*\u001B[39;49m\u001B[43margs\u001B[49m\u001B[43m,\u001B[49m\u001B[43m \u001B[49m\u001B[38;5;241;43m*\u001B[39;49m\u001B[38;5;241;43m*\u001B[39;49m\u001B[43mkwargs\u001B[49m\u001B[43m)\u001B[49m\n\u001B[1;32m     49\u001B[0m     logger\u001B[38;5;241m.\u001B[39mlog_success(\n\u001B[1;32m     50\u001B[0m         module_name, class_name, function_name, time\u001B[38;5;241m.\u001B[39mperf_counter() \u001B[38;5;241m-\u001B[39m start, signature\n\u001B[1;32m     51\u001B[0m     )\n\u001B[1;32m     52\u001B[0m     \u001B[38;5;28;01mreturn\u001B[39;00m res\n\nFile \u001B[0;32m/databricks/spark/python/pyspark/sql/session.py:1387\u001B[0m, in \u001B[0;36mSparkSession.sql\u001B[0;34m(self, sqlQuery, args, **kwargs)\u001B[0m\n\u001B[1;32m   1385\u001B[0m \u001B[38;5;28;01mtry\u001B[39;00m:\n\u001B[1;32m   1386\u001B[0m     litArgs \u001B[38;5;241m=\u001B[39m {k: _to_java_column(lit(v)) \u001B[38;5;28;01mfor\u001B[39;00m k, v \u001B[38;5;129;01min\u001B[39;00m (args \u001B[38;5;129;01mor\u001B[39;00m {})\u001B[38;5;241m.\u001B[39mitems()}\n\u001B[0;32m-> 1387\u001B[0m     \u001B[38;5;28;01mreturn\u001B[39;00m DataFrame(\u001B[38;5;28;43mself\u001B[39;49m\u001B[38;5;241;43m.\u001B[39;49m\u001B[43m_jsparkSession\u001B[49m\u001B[38;5;241;43m.\u001B[39;49m\u001B[43msql\u001B[49m\u001B[43m(\u001B[49m\u001B[43msqlQuery\u001B[49m\u001B[43m,\u001B[49m\u001B[43m \u001B[49m\u001B[43mlitArgs\u001B[49m\u001B[43m)\u001B[49m, \u001B[38;5;28mself\u001B[39m)\n\u001B[1;32m   1388\u001B[0m \u001B[38;5;28;01mfinally\u001B[39;00m:\n\u001B[1;32m   1389\u001B[0m     \u001B[38;5;28;01mif\u001B[39;00m \u001B[38;5;28mlen\u001B[39m(kwargs) \u001B[38;5;241m>\u001B[39m \u001B[38;5;241m0\u001B[39m:\n\nFile \u001B[0;32m/databricks/spark/python/lib/py4j-0.10.9.5-src.zip/py4j/java_gateway.py:1321\u001B[0m, in \u001B[0;36mJavaMember.__call__\u001B[0;34m(self, *args)\u001B[0m\n\u001B[1;32m   1315\u001B[0m command \u001B[38;5;241m=\u001B[39m proto\u001B[38;5;241m.\u001B[39mCALL_COMMAND_NAME \u001B[38;5;241m+\u001B[39m\\\n\u001B[1;32m   1316\u001B[0m     \u001B[38;5;28mself\u001B[39m\u001B[38;5;241m.\u001B[39mcommand_header \u001B[38;5;241m+\u001B[39m\\\n\u001B[1;32m   1317\u001B[0m     args_command \u001B[38;5;241m+\u001B[39m\\\n\u001B[1;32m   1318\u001B[0m     proto\u001B[38;5;241m.\u001B[39mEND_COMMAND_PART\n\u001B[1;32m   1320\u001B[0m answer \u001B[38;5;241m=\u001B[39m \u001B[38;5;28mself\u001B[39m\u001B[38;5;241m.\u001B[39mgateway_client\u001B[38;5;241m.\u001B[39msend_command(command)\n\u001B[0;32m-> 1321\u001B[0m return_value \u001B[38;5;241m=\u001B[39m \u001B[43mget_return_value\u001B[49m\u001B[43m(\u001B[49m\n\u001B[1;32m   1322\u001B[0m \u001B[43m    \u001B[49m\u001B[43manswer\u001B[49m\u001B[43m,\u001B[49m\u001B[43m \u001B[49m\u001B[38;5;28;43mself\u001B[39;49m\u001B[38;5;241;43m.\u001B[39;49m\u001B[43mgateway_client\u001B[49m\u001B[43m,\u001B[49m\u001B[43m \u001B[49m\u001B[38;5;28;43mself\u001B[39;49m\u001B[38;5;241;43m.\u001B[39;49m\u001B[43mtarget_id\u001B[49m\u001B[43m,\u001B[49m\u001B[43m \u001B[49m\u001B[38;5;28;43mself\u001B[39;49m\u001B[38;5;241;43m.\u001B[39;49m\u001B[43mname\u001B[49m\u001B[43m)\u001B[49m\n\u001B[1;32m   1324\u001B[0m \u001B[38;5;28;01mfor\u001B[39;00m temp_arg \u001B[38;5;129;01min\u001B[39;00m temp_args:\n\u001B[1;32m   1325\u001B[0m     temp_arg\u001B[38;5;241m.\u001B[39m_detach()\n\nFile \u001B[0;32m/databricks/spark/python/pyspark/errors/exceptions.py:234\u001B[0m, in \u001B[0;36mcapture_sql_exception.<locals>.deco\u001B[0;34m(*a, **kw)\u001B[0m\n\u001B[1;32m    230\u001B[0m converted \u001B[38;5;241m=\u001B[39m convert_exception(e\u001B[38;5;241m.\u001B[39mjava_exception)\n\u001B[1;32m    231\u001B[0m \u001B[38;5;28;01mif\u001B[39;00m \u001B[38;5;129;01mnot\u001B[39;00m \u001B[38;5;28misinstance\u001B[39m(converted, UnknownException):\n\u001B[1;32m    232\u001B[0m     \u001B[38;5;66;03m# Hide where the exception came from that shows a non-Pythonic\u001B[39;00m\n\u001B[1;32m    233\u001B[0m     \u001B[38;5;66;03m# JVM exception message.\u001B[39;00m\n\u001B[0;32m--> 234\u001B[0m     \u001B[38;5;28;01mraise\u001B[39;00m converted \u001B[38;5;28;01mfrom\u001B[39;00m \u001B[38;5;28mNone\u001B[39m\n\u001B[1;32m    235\u001B[0m \u001B[38;5;28;01melse\u001B[39;00m:\n\u001B[1;32m    236\u001B[0m     \u001B[38;5;28;01mraise\u001B[39;00m\n\n\u001B[0;31mAnalysisException\u001B[0m: [UNRESOLVED_COLUMN.WITH_SUGGESTION] A column or function parameter with name `o`.`TotalAmount` cannot be resolved. Did you mean one of the following? [`c`.`PostalCode`, `o`.`ShipCountry`, `c`.`ContactName`, `c`.`ContactTitle`, `c`.`Country`].; line 3 pos 40;\n'Sort ['total_spent DESC NULLS LAST], true\n+- 'UnresolvedHaving ('SUM('o.TotalAmount) > 20000)\n   +- 'Aggregate [CustomerID#459, CompanyName#460], [CustomerID#459, CompanyName#460, 'SUM('o.TotalAmount) AS total_spent#3639]\n      +- Join Inner, (CustomerID#600 = ContactName#461)\n         :- SubqueryAlias o\n         :  +- SubqueryAlias orders\n         :     +- View (`orders`, [OrderID#599,CustomerID#600,EmployeeID#601,OrderDate#602,RequiredDate#603,ShippedDate#604,ShipVia#605,Freight#606,ShipName#607,ShipAddress#608,ShipCity#609,ShipRegion#610,ShipPostalCode#611,ShipCountry#612])\n         :        +- Relation [OrderID#599,CustomerID#600,EmployeeID#601,OrderDate#602,RequiredDate#603,ShippedDate#604,ShipVia#605,Freight#606,ShipName#607,ShipAddress#608,ShipCity#609,ShipRegion#610,ShipPostalCode#611,ShipCountry#612] csv\n         +- SubqueryAlias c\n            +- SubqueryAlias customers\n               +- View (`customers`, [CustomerID#459,CompanyName#460,ContactName#461,ContactTitle#462,Address#463,City#464,Region#465,PostalCode#466,Country#467,Phone#468,Fax#469])\n                  +- Relation [CustomerID#459,CompanyName#460,ContactName#461,ContactTitle#462,Address#463,City#464,Region#465,PostalCode#466,Country#467,Phone#468,Fax#469] csv\n",
       "errorSummary": "<span class='ansi-red-fg'>AnalysisException</span>: [UNRESOLVED_COLUMN.WITH_SUGGESTION] A column or function parameter with name `o`.`TotalAmount` cannot be resolved. Did you mean one of the following? [`c`.`PostalCode`, `o`.`ShipCountry`, `c`.`ContactName`, `c`.`ContactTitle`, `c`.`Country`].; line 3 pos 40;\n'Sort ['total_spent DESC NULLS LAST], true\n+- 'UnresolvedHaving ('SUM('o.TotalAmount) > 20000)\n   +- 'Aggregate [CustomerID#459, CompanyName#460], [CustomerID#459, CompanyName#460, 'SUM('o.TotalAmount) AS total_spent#3639]\n      +- Join Inner, (CustomerID#600 = ContactName#461)\n         :- SubqueryAlias o\n         :  +- SubqueryAlias orders\n         :     +- View (`orders`, [OrderID#599,CustomerID#600,EmployeeID#601,OrderDate#602,RequiredDate#603,ShippedDate#604,ShipVia#605,Freight#606,ShipName#607,ShipAddress#608,ShipCity#609,ShipRegion#610,ShipPostalCode#611,ShipCountry#612])\n         :        +- Relation [OrderID#599,CustomerID#600,EmployeeID#601,OrderDate#602,RequiredDate#603,ShippedDate#604,ShipVia#605,Freight#606,ShipName#607,ShipAddress#608,ShipCity#609,ShipRegion#610,ShipPostalCode#611,ShipCountry#612] csv\n         +- SubqueryAlias c\n            +- SubqueryAlias customers\n               +- View (`customers`, [CustomerID#459,CompanyName#460,ContactName#461,ContactTitle#462,Address#463,City#464,Region#465,PostalCode#466,Country#467,Phone#468,Fax#469])\n                  +- Relation [CustomerID#459,CompanyName#460,ContactName#461,ContactTitle#462,Address#463,City#464,Region#465,PostalCode#466,Country#467,Phone#468,Fax#469] csv\n",
       "errorTraceType": "ansi",
       "metadata": {},
       "type": "ipynbError"
      }
     },
     "output_type": "display_data"
    }
   ],
   "source": [
    "%sql\n",
    "-- Which customers are the biggest spenders in terms of total amount spent on orders?\n",
    "-- List only companies with a total spending of greater than 20,000.\n",
    "SELECT c.CustomerID, c.CompanyName, SUM(o.TotalAmount) AS total_spent\n",
    "FROM orders o\n",
    "JOIN customers c ON o.CustomerID = c.ContactName\n",
    "GROUP BY c.CustomerID, c.CompanyName\n",
    "HAVING SUM(o.TotalAmount) > 20000\n",
    "ORDER BY total_spent DESC"
   ]
  },
  {
   "cell_type": "code",
   "execution_count": 0,
   "metadata": {
    "application/vnd.databricks.v1+cell": {
     "cellMetadata": {
      "byteLimit": 2048000,
      "implicitDf": true,
      "rowLimit": 10000
     },
     "inputWidgets": {},
     "nuid": "07a198fc-7f87-4855-925f-528e04e0d8bd",
     "showTitle": false,
     "title": ""
    }
   },
   "outputs": [
    {
     "output_type": "display_data",
     "data": {
      "text/html": [
       "<style scoped>\n",
       "  .table-result-container {\n",
       "    max-height: 300px;\n",
       "    overflow: auto;\n",
       "  }\n",
       "  table, th, td {\n",
       "    border: 1px solid black;\n",
       "    border-collapse: collapse;\n",
       "  }\n",
       "  th, td {\n",
       "    padding: 5px;\n",
       "  }\n",
       "  th {\n",
       "    text-align: left;\n",
       "  }\n",
       "</style><div class='table-result-container'><table class='table-result'><thead style='background-color: white'><tr><th>EmployeeID</th><th>FirstName</th><th>LastName</th><th>num_orders_sold</th></tr></thead><tbody><tr><td>4</td><td>Margaret</td><td>Peacock</td><td>156</td></tr><tr><td>3</td><td>Janet</td><td>Leverling</td><td>127</td></tr><tr><td>1</td><td>Nancy</td><td>Davolio</td><td>123</td></tr><tr><td>8</td><td>Laura</td><td>Callahan</td><td>104</td></tr><tr><td>2</td><td>Andrew</td><td>Fuller</td><td>96</td></tr><tr><td>7</td><td>Robert</td><td>King</td><td>72</td></tr><tr><td>6</td><td>Michael</td><td>Suyama</td><td>67</td></tr><tr><td>9</td><td>Anne</td><td>Dodsworth</td><td>43</td></tr><tr><td>5</td><td>Steven</td><td>Buchanan</td><td>42</td></tr></tbody></table></div>"
      ]
     },
     "metadata": {
      "application/vnd.databricks.v1+output": {
       "addedWidgets": {},
       "aggData": [],
       "aggError": "",
       "aggOverflow": false,
       "aggSchema": [],
       "aggSeriesLimitReached": false,
       "aggType": "",
       "arguments": {},
       "columnCustomDisplayInfos": {},
       "data": [
        [
         4,
         "Margaret",
         "Peacock",
         156
        ],
        [
         3,
         "Janet",
         "Leverling",
         127
        ],
        [
         1,
         "Nancy",
         "Davolio",
         123
        ],
        [
         8,
         "Laura",
         "Callahan",
         104
        ],
        [
         2,
         "Andrew",
         "Fuller",
         96
        ],
        [
         7,
         "Robert",
         "King",
         72
        ],
        [
         6,
         "Michael",
         "Suyama",
         67
        ],
        [
         9,
         "Anne",
         "Dodsworth",
         43
        ],
        [
         5,
         "Steven",
         "Buchanan",
         42
        ]
       ],
       "datasetInfos": [],
       "dbfsResultPath": null,
       "isJsonSchema": true,
       "metadata": {},
       "overflow": false,
       "plotOptions": {
        "customPlotOptions": {},
        "displayType": "plotlyBar",
        "pivotAggregation": null,
        "pivotColumns": null,
        "xColumns": null,
        "yColumns": null
       },
       "removedWidgets": [],
       "schema": [
        {
         "metadata": "{}",
         "name": "EmployeeID",
         "type": "\"integer\""
        },
        {
         "metadata": "{}",
         "name": "FirstName",
         "type": "\"string\""
        },
        {
         "metadata": "{}",
         "name": "LastName",
         "type": "\"string\""
        },
        {
         "metadata": "{}",
         "name": "num_orders_sold",
         "type": "\"long\""
        }
       ],
       "type": "table"
      }
     },
     "output_type": "display_data"
    }
   ],
   "source": [
    "%sql\n",
    "-- Which employees have sold the most orders?\n",
    "SELECT e.EmployeeID, e.FirstName, e.LastName, COUNT(*) AS num_orders_sold\n",
    "FROM orders o\n",
    "JOIN employees e ON o.EmployeeID = e.EmployeeID\n",
    "GROUP BY e.EmployeeID, e.FirstName, e.LastName\n",
    "ORDER BY num_orders_sold DESC"
   ]
  },
  {
   "cell_type": "code",
   "execution_count": 0,
   "metadata": {
    "application/vnd.databricks.v1+cell": {
     "cellMetadata": {
      "byteLimit": 2048000,
      "implicitDf": true,
      "rowLimit": 10000
     },
     "inputWidgets": {},
     "nuid": "c4cab258-3b14-4472-ac86-87b6c8f4e881",
     "showTitle": false,
     "title": ""
    }
   },
   "outputs": [
    {
     "output_type": "display_data",
     "data": {
      "text/html": [
       "<style scoped>\n",
       "  .table-result-container {\n",
       "    max-height: 300px;\n",
       "    overflow: auto;\n",
       "  }\n",
       "  table, th, td {\n",
       "    border: 1px solid black;\n",
       "    border-collapse: collapse;\n",
       "  }\n",
       "  th, td {\n",
       "    padding: 5px;\n",
       "  }\n",
       "  th {\n",
       "    text-align: left;\n",
       "  }\n",
       "</style><div class='table-result-container'><table class='table-result'><thead style='background-color: white'><tr><th>CustomerID</th></tr></thead><tbody><tr><td>FISSA</td></tr><tr><td>PARIS</td></tr></tbody></table></div>"
      ]
     },
     "metadata": {
      "application/vnd.databricks.v1+output": {
       "addedWidgets": {},
       "aggData": [],
       "aggError": "",
       "aggOverflow": false,
       "aggSchema": [],
       "aggSeriesLimitReached": false,
       "aggType": "",
       "arguments": {},
       "columnCustomDisplayInfos": {},
       "data": [
        [
         "FISSA"
        ],
        [
         "PARIS"
        ]
       ],
       "datasetInfos": [],
       "dbfsResultPath": null,
       "isJsonSchema": true,
       "metadata": {},
       "overflow": false,
       "plotOptions": {
        "customPlotOptions": {},
        "displayType": "table",
        "pivotAggregation": null,
        "pivotColumns": null,
        "xColumns": null,
        "yColumns": null
       },
       "removedWidgets": [],
       "schema": [
        {
         "metadata": "{}",
         "name": "CustomerID",
         "type": "\"string\""
        }
       ],
       "type": "table"
      }
     },
     "output_type": "display_data"
    }
   ],
   "source": [
    "%sql\n",
    "-- List customer IDs of customers who have never placed an order.\n",
    "SELECT c.CustomerID\n",
    "FROM customers c\n",
    "LEFT JOIN orders o ON c.CustomerID = o.CustomerID\n",
    "WHERE o.CustomerID IS NULL"
   ]
  },
  {
   "cell_type": "code",
   "execution_count": 0,
   "metadata": {
    "application/vnd.databricks.v1+cell": {
     "cellMetadata": {
      "byteLimit": 2048000,
      "implicitDf": true,
      "rowLimit": 10000
     },
     "inputWidgets": {},
     "nuid": "83e4f400-28b8-4e51-8701-b9974e4eec70",
     "showTitle": false,
     "title": ""
    }
   },
   "outputs": [
    {
     "output_type": "display_data",
     "data": {
      "text/html": [
       "<style scoped>\n",
       "  .table-result-container {\n",
       "    max-height: 300px;\n",
       "    overflow: auto;\n",
       "  }\n",
       "  table, th, td {\n",
       "    border: 1px solid black;\n",
       "    border-collapse: collapse;\n",
       "  }\n",
       "  th, td {\n",
       "    padding: 5px;\n",
       "  }\n",
       "  th {\n",
       "    text-align: left;\n",
       "  }\n",
       "</style><div class='table-result-container'><table class='table-result'><thead style='background-color: white'><tr><th>OrderID</th></tr></thead><tbody><tr><td>11077</td></tr><tr><td>11076</td></tr><tr><td>11075</td></tr><tr><td>11074</td></tr><tr><td>11073</td></tr><tr><td>11072</td></tr><tr><td>11071</td></tr><tr><td>11070</td></tr><tr><td>11069</td></tr><tr><td>11068</td></tr><tr><td>11067</td></tr><tr><td>11066</td></tr><tr><td>11065</td></tr><tr><td>11064</td></tr><tr><td>11063</td></tr></tbody></table></div>"
      ]
     },
     "metadata": {
      "application/vnd.databricks.v1+output": {
       "addedWidgets": {},
       "aggData": [],
       "aggError": "",
       "aggOverflow": false,
       "aggSchema": [],
       "aggSeriesLimitReached": false,
       "aggType": "",
       "arguments": {},
       "columnCustomDisplayInfos": {},
       "data": [
        [
         11077
        ],
        [
         11076
        ],
        [
         11075
        ],
        [
         11074
        ],
        [
         11073
        ],
        [
         11072
        ],
        [
         11071
        ],
        [
         11070
        ],
        [
         11069
        ],
        [
         11068
        ],
        [
         11067
        ],
        [
         11066
        ],
        [
         11065
        ],
        [
         11064
        ],
        [
         11063
        ]
       ],
       "datasetInfos": [],
       "dbfsResultPath": null,
       "isJsonSchema": true,
       "metadata": {},
       "overflow": false,
       "plotOptions": {
        "customPlotOptions": {},
        "displayType": "table",
        "pivotAggregation": null,
        "pivotColumns": null,
        "xColumns": null,
        "yColumns": null
       },
       "removedWidgets": [],
       "schema": [
        {
         "metadata": "{}",
         "name": "OrderID",
         "type": "\"integer\""
        }
       ],
       "type": "table"
      }
     },
     "output_type": "display_data"
    }
   ],
   "source": [
    "%sql\n",
    "-- Show the top 15 order IDs\n",
    "SELECT OrderID\n",
    "FROM orders\n",
    "ORDER BY OrderID DESC\n",
    "LIMIT 15"
   ]
  },
  {
   "cell_type": "code",
   "execution_count": 0,
   "metadata": {
    "application/vnd.databricks.v1+cell": {
     "cellMetadata": {
      "byteLimit": 2048000,
      "rowLimit": 10000
     },
     "inputWidgets": {},
     "nuid": "346b8053-e872-4174-b500-45b4bd2b317e",
     "showTitle": false,
     "title": ""
    }
   },
   "outputs": [
    {
     "output_type": "display_data",
     "data": {
      "text/html": [
       "<style scoped>\n",
       "  .table-result-container {\n",
       "    max-height: 300px;\n",
       "    overflow: auto;\n",
       "  }\n",
       "  table, th, td {\n",
       "    border: 1px solid black;\n",
       "    border-collapse: collapse;\n",
       "  }\n",
       "  th, td {\n",
       "    padding: 5px;\n",
       "  }\n",
       "  th {\n",
       "    text-align: left;\n",
       "  }\n",
       "</style><div class='table-result-container'><table class='table-result'><thead style='background-color: white'><tr><th>TerritoryID</th><th>TerritoryDescription</th><th>RegionID</th></tr></thead><tbody><tr><td>1581</td><td>Westboro</td><td>1</td></tr><tr><td>1730</td><td>Bedford</td><td>1</td></tr><tr><td>1833</td><td>Georgetow</td><td>1</td></tr><tr><td>2116</td><td>Boston</td><td>1</td></tr><tr><td>2139</td><td>Cambridge</td><td>1</td></tr><tr><td>2184</td><td>Braintree</td><td>1</td></tr><tr><td>2903</td><td>Providence</td><td>1</td></tr><tr><td>3049</td><td>Hollis</td><td>3</td></tr><tr><td>3801</td><td>Portsmouth</td><td>3</td></tr><tr><td>6897</td><td>Wilton</td><td>1</td></tr><tr><td>7960</td><td>Morristown</td><td>1</td></tr><tr><td>8837</td><td>Edison</td><td>1</td></tr><tr><td>10019</td><td>NewYork</td><td>1</td></tr><tr><td>10038</td><td>NewYork</td><td>1</td></tr><tr><td>11747</td><td>Mellvile</td><td>1</td></tr><tr><td>14450</td><td>Fairport</td><td>1</td></tr><tr><td>19428</td><td>Philadelphia</td><td>3</td></tr><tr><td>19713</td><td>Neward</td><td>1</td></tr><tr><td>20852</td><td>Rockville</td><td>1</td></tr><tr><td>27403</td><td>Greensboro</td><td>1</td></tr><tr><td>27511</td><td>Cary</td><td>1</td></tr><tr><td>29202</td><td>Columbia</td><td>4</td></tr><tr><td>30346</td><td>Atlanta</td><td>4</td></tr><tr><td>31406</td><td>Savannah</td><td>4</td></tr><tr><td>32859</td><td>Orlando</td><td>4</td></tr><tr><td>33607</td><td>Tampa</td><td>4</td></tr><tr><td>40222</td><td>Louisville</td><td>1</td></tr><tr><td>44122</td><td>Beachwood</td><td>3</td></tr><tr><td>45839</td><td>Findlay</td><td>3</td></tr><tr><td>48075</td><td>Southfield</td><td>3</td></tr><tr><td>48084</td><td>Troy</td><td>3</td></tr><tr><td>48304</td><td>BloomfieldHills</td><td>3</td></tr><tr><td>53404</td><td>Racine</td><td>3</td></tr><tr><td>55113</td><td>Roseville</td><td>3</td></tr><tr><td>55439</td><td>Minneapolis</td><td>3</td></tr><tr><td>60179</td><td>HoffmanEstates</td><td>2</td></tr><tr><td>60601</td><td>Chicago</td><td>2</td></tr><tr><td>72716</td><td>Bentonville</td><td>4</td></tr><tr><td>75234</td><td>Dallas</td><td>4</td></tr><tr><td>78759</td><td>Austin</td><td>4</td></tr><tr><td>80202</td><td>Denver</td><td>2</td></tr><tr><td>80909</td><td>ColoradoSprings</td><td>2</td></tr><tr><td>85014</td><td>Phoenix</td><td>2</td></tr><tr><td>85251</td><td>Scottsdale</td><td>2</td></tr><tr><td>90405</td><td>SantaMonica</td><td>2</td></tr><tr><td>94025</td><td>MenloPark</td><td>2</td></tr><tr><td>94105</td><td>SanFrancisco</td><td>2</td></tr><tr><td>95008</td><td>Campbell</td><td>2</td></tr><tr><td>95054</td><td>SantaClara</td><td>2</td></tr><tr><td>95060</td><td>SantaCruz</td><td>2</td></tr><tr><td>98004</td><td>Bellevue</td><td>2</td></tr><tr><td>98052</td><td>Redmond</td><td>2</td></tr><tr><td>98104</td><td>Seattle</td><td>2</td></tr></tbody></table></div>"
      ]
     },
     "metadata": {
      "application/vnd.databricks.v1+output": {
       "addedWidgets": {},
       "aggData": [],
       "aggError": "",
       "aggOverflow": false,
       "aggSchema": [],
       "aggSeriesLimitReached": false,
       "aggType": "",
       "arguments": {},
       "columnCustomDisplayInfos": {},
       "data": [
        [
         1581,
         "Westboro",
         1
        ],
        [
         1730,
         "Bedford",
         1
        ],
        [
         1833,
         "Georgetow",
         1
        ],
        [
         2116,
         "Boston",
         1
        ],
        [
         2139,
         "Cambridge",
         1
        ],
        [
         2184,
         "Braintree",
         1
        ],
        [
         2903,
         "Providence",
         1
        ],
        [
         3049,
         "Hollis",
         3
        ],
        [
         3801,
         "Portsmouth",
         3
        ],
        [
         6897,
         "Wilton",
         1
        ],
        [
         7960,
         "Morristown",
         1
        ],
        [
         8837,
         "Edison",
         1
        ],
        [
         10019,
         "NewYork",
         1
        ],
        [
         10038,
         "NewYork",
         1
        ],
        [
         11747,
         "Mellvile",
         1
        ],
        [
         14450,
         "Fairport",
         1
        ],
        [
         19428,
         "Philadelphia",
         3
        ],
        [
         19713,
         "Neward",
         1
        ],
        [
         20852,
         "Rockville",
         1
        ],
        [
         27403,
         "Greensboro",
         1
        ],
        [
         27511,
         "Cary",
         1
        ],
        [
         29202,
         "Columbia",
         4
        ],
        [
         30346,
         "Atlanta",
         4
        ],
        [
         31406,
         "Savannah",
         4
        ],
        [
         32859,
         "Orlando",
         4
        ],
        [
         33607,
         "Tampa",
         4
        ],
        [
         40222,
         "Louisville",
         1
        ],
        [
         44122,
         "Beachwood",
         3
        ],
        [
         45839,
         "Findlay",
         3
        ],
        [
         48075,
         "Southfield",
         3
        ],
        [
         48084,
         "Troy",
         3
        ],
        [
         48304,
         "BloomfieldHills",
         3
        ],
        [
         53404,
         "Racine",
         3
        ],
        [
         55113,
         "Roseville",
         3
        ],
        [
         55439,
         "Minneapolis",
         3
        ],
        [
         60179,
         "HoffmanEstates",
         2
        ],
        [
         60601,
         "Chicago",
         2
        ],
        [
         72716,
         "Bentonville",
         4
        ],
        [
         75234,
         "Dallas",
         4
        ],
        [
         78759,
         "Austin",
         4
        ],
        [
         80202,
         "Denver",
         2
        ],
        [
         80909,
         "ColoradoSprings",
         2
        ],
        [
         85014,
         "Phoenix",
         2
        ],
        [
         85251,
         "Scottsdale",
         2
        ],
        [
         90405,
         "SantaMonica",
         2
        ],
        [
         94025,
         "MenloPark",
         2
        ],
        [
         94105,
         "SanFrancisco",
         2
        ],
        [
         95008,
         "Campbell",
         2
        ],
        [
         95054,
         "SantaClara",
         2
        ],
        [
         95060,
         "SantaCruz",
         2
        ],
        [
         98004,
         "Bellevue",
         2
        ],
        [
         98052,
         "Redmond",
         2
        ],
        [
         98104,
         "Seattle",
         2
        ]
       ],
       "datasetInfos": [],
       "dbfsResultPath": null,
       "isJsonSchema": true,
       "metadata": {},
       "overflow": false,
       "plotOptions": {
        "customPlotOptions": {},
        "displayType": "table",
        "pivotAggregation": null,
        "pivotColumns": null,
        "xColumns": null,
        "yColumns": null
       },
       "removedWidgets": [],
       "schema": [
        {
         "metadata": "{}",
         "name": "TerritoryID",
         "type": "\"integer\""
        },
        {
         "metadata": "{}",
         "name": "TerritoryDescription",
         "type": "\"string\""
        },
        {
         "metadata": "{}",
         "name": "RegionID",
         "type": "\"integer\""
        }
       ],
       "type": "table"
      }
     },
     "output_type": "display_data"
    }
   ],
   "source": [
    "df.display()"
   ]
  },
  {
   "cell_type": "code",
   "execution_count": 0,
   "metadata": {
    "application/vnd.databricks.v1+cell": {
     "cellMetadata": {
      "byteLimit": 2048000,
      "implicitDf": true,
      "rowLimit": 10000
     },
     "inputWidgets": {},
     "nuid": "455b778c-7947-48f5-b6ac-82e8f0c9d780",
     "showTitle": false,
     "title": ""
    }
   },
   "outputs": [
    {
     "output_type": "display_data",
     "data": {
      "text/html": [
       "<style scoped>\n",
       "  .table-result-container {\n",
       "    max-height: 300px;\n",
       "    overflow: auto;\n",
       "  }\n",
       "  table, th, td {\n",
       "    border: 1px solid black;\n",
       "    border-collapse: collapse;\n",
       "  }\n",
       "  th, td {\n",
       "    padding: 5px;\n",
       "  }\n",
       "  th {\n",
       "    text-align: left;\n",
       "  }\n",
       "</style><div class='table-result-container'><table class='table-result'><thead style='background-color: white'><tr><th>ProductID</th><th>ProductName</th><th>UnitPrice</th></tr></thead><tbody><tr><td>38</td><td>Côte de Blaye</td><td>263.5</td></tr><tr><td>29</td><td>Thüringer Rostbratwurst</td><td>123.79</td></tr><tr><td>9</td><td>Mishi Kobe Niku</td><td>97.0</td></tr><tr><td>20</td><td>Sir Rodney's Marmalade</td><td>81.0</td></tr><tr><td>18</td><td>Carnarvon Tigers</td><td>62.5</td></tr><tr><td>59</td><td>Raclette Courdavault</td><td>55.0</td></tr><tr><td>51</td><td>Manjimup Dried Apples</td><td>53.0</td></tr><tr><td>62</td><td>Tarte au sucre</td><td>49.3</td></tr><tr><td>43</td><td>Ipoh Coffee</td><td>46.0</td></tr><tr><td>28</td><td>Rössle Sauerkraut</td><td>45.6</td></tr><tr><td>27</td><td>Schoggi Schokolade</td><td>43.9</td></tr><tr><td>63</td><td>Vegie-spread</td><td>43.9</td></tr><tr><td>8</td><td>Northwoods Cranberry Sauce</td><td>40.0</td></tr><tr><td>17</td><td>Alice Mutton</td><td>39.0</td></tr><tr><td>12</td><td>Queso Manchego La Pastora</td><td>38.0</td></tr><tr><td>56</td><td>Gnocchi di nonna Alice</td><td>38.0</td></tr><tr><td>69</td><td>Gudbrandsdalsost</td><td>36.0</td></tr><tr><td>72</td><td>Mozzarella di Giovanni</td><td>34.8</td></tr><tr><td>60</td><td>Camembert Pierrot</td><td>34.0</td></tr><tr><td>64</td><td>Wimmers gute Semmelknödel</td><td>33.25</td></tr><tr><td>53</td><td>Perth Pasties</td><td>32.8</td></tr><tr><td>32</td><td>Mascarpone Fabioli</td><td>32.0</td></tr><tr><td>26</td><td>Gumbär Gummibärchen</td><td>31.23</td></tr><tr><td>10</td><td>Ikura</td><td>31.0</td></tr><tr><td>7</td><td>Uncle Bob's Organic Dried Pears</td><td>30.0</td></tr><tr><td>61</td><td>Sirop d'érable</td><td>28.5</td></tr><tr><td>37</td><td>Gravad lax</td><td>26.0</td></tr><tr><td>30</td><td>Nord-Ost Matjeshering</td><td>25.89</td></tr><tr><td>6</td><td>Grandma's Boysenberry Spread</td><td>25.0</td></tr><tr><td>55</td><td>Pâté chinois</td><td>24.0</td></tr><tr><td>14</td><td>Tofu</td><td>23.25</td></tr><tr><td>4</td><td>Chef Anton's Cajun Seasoning</td><td>22.0</td></tr><tr><td>71</td><td>Flotemysost</td><td>21.5</td></tr><tr><td>5</td><td>Chef Anton's Gumbo Mix</td><td>21.35</td></tr><tr><td>65</td><td>Louisiana Fiery Hot Pepper Sauce</td><td>21.05</td></tr><tr><td>11</td><td>Queso Cabrales</td><td>21.0</td></tr><tr><td>22</td><td>Gustaf's Knäckebröd</td><td>21.0</td></tr><tr><td>49</td><td>Maxilaku</td><td>20.0</td></tr><tr><td>57</td><td>Ravioli Angelo</td><td>19.5</td></tr><tr><td>44</td><td>Gula Malacca</td><td>19.45</td></tr><tr><td>2</td><td>Chang</td><td>19.0</td></tr><tr><td>36</td><td>Inlagd Sill</td><td>19.0</td></tr><tr><td>40</td><td>Boston Crab Meat</td><td>18.4</td></tr><tr><td>1</td><td>Chai</td><td>18.0</td></tr><tr><td>35</td><td>Steeleye Stout</td><td>18.0</td></tr><tr><td>39</td><td>Chartreuse verte</td><td>18.0</td></tr><tr><td>76</td><td>Lakkalikööri</td><td>18.0</td></tr><tr><td>16</td><td>Pavlova</td><td>17.45</td></tr><tr><td>66</td><td>Louisiana Hot Spiced Okra</td><td>17.0</td></tr><tr><td>50</td><td>Valkoinen suklaa</td><td>16.25</td></tr><tr><td>15</td><td>Genen Shouyu</td><td>15.5</td></tr><tr><td>70</td><td>Outback Lager</td><td>15.0</td></tr><tr><td>73</td><td>Röd Kaviar</td><td>15.0</td></tr><tr><td>25</td><td>NuNuCa Nuß-Nougat-Creme</td><td>14.0</td></tr><tr><td>34</td><td>Sasquatch Ale</td><td>14.0</td></tr><tr><td>42</td><td>Singaporean Hokkien Fried Mee</td><td>14.0</td></tr><tr><td>67</td><td>Laughing Lumberjack Lager</td><td>14.0</td></tr><tr><td>58</td><td>Escargots de Bourgogne</td><td>13.25</td></tr><tr><td>77</td><td>Original Frankfurter grüne Soße</td><td>13.0</td></tr><tr><td>48</td><td>Chocolade</td><td>12.75</td></tr><tr><td>31</td><td>Gorgonzola Telino</td><td>12.5</td></tr><tr><td>68</td><td>Scottish Longbreads</td><td>12.5</td></tr><tr><td>46</td><td>Spegesild</td><td>12.0</td></tr><tr><td>3</td><td>Aniseed Syrup</td><td>10.0</td></tr><tr><td>21</td><td>Sir Rodney's Scones</td><td>10.0</td></tr><tr><td>74</td><td>Longlife Tofu</td><td>10.0</td></tr><tr><td>41</td><td>Jack's New England Clam Chowder</td><td>9.65</td></tr><tr><td>45</td><td>Rogede sild</td><td>9.5</td></tr><tr><td>47</td><td>Zaanse koeken</td><td>9.5</td></tr><tr><td>19</td><td>Teatime Chocolate Biscuits</td><td>9.2</td></tr><tr><td>23</td><td>Tunnbröd</td><td>9.0</td></tr><tr><td>75</td><td>Rhönbräu Klosterbier</td><td>7.75</td></tr><tr><td>54</td><td>Tourtière</td><td>7.45</td></tr><tr><td>52</td><td>Filo Mix</td><td>7.0</td></tr><tr><td>13</td><td>Konbu</td><td>6.0</td></tr><tr><td>24</td><td>Guaraná Fantástica</td><td>4.5</td></tr><tr><td>33</td><td>Geitost</td><td>2.5</td></tr></tbody></table></div>"
      ]
     },
     "metadata": {
      "application/vnd.databricks.v1+output": {
       "addedWidgets": {},
       "aggData": [],
       "aggError": "",
       "aggOverflow": false,
       "aggSchema": [],
       "aggSeriesLimitReached": false,
       "aggType": "",
       "arguments": {},
       "columnCustomDisplayInfos": {},
       "data": [
        [
         38,
         "Côte de Blaye",
         263.5
        ],
        [
         29,
         "Thüringer Rostbratwurst",
         123.79
        ],
        [
         9,
         "Mishi Kobe Niku",
         97.0
        ],
        [
         20,
         "Sir Rodney's Marmalade",
         81.0
        ],
        [
         18,
         "Carnarvon Tigers",
         62.5
        ],
        [
         59,
         "Raclette Courdavault",
         55.0
        ],
        [
         51,
         "Manjimup Dried Apples",
         53.0
        ],
        [
         62,
         "Tarte au sucre",
         49.3
        ],
        [
         43,
         "Ipoh Coffee",
         46.0
        ],
        [
         28,
         "Rössle Sauerkraut",
         45.6
        ],
        [
         27,
         "Schoggi Schokolade",
         43.9
        ],
        [
         63,
         "Vegie-spread",
         43.9
        ],
        [
         8,
         "Northwoods Cranberry Sauce",
         40.0
        ],
        [
         17,
         "Alice Mutton",
         39.0
        ],
        [
         12,
         "Queso Manchego La Pastora",
         38.0
        ],
        [
         56,
         "Gnocchi di nonna Alice",
         38.0
        ],
        [
         69,
         "Gudbrandsdalsost",
         36.0
        ],
        [
         72,
         "Mozzarella di Giovanni",
         34.8
        ],
        [
         60,
         "Camembert Pierrot",
         34.0
        ],
        [
         64,
         "Wimmers gute Semmelknödel",
         33.25
        ],
        [
         53,
         "Perth Pasties",
         32.8
        ],
        [
         32,
         "Mascarpone Fabioli",
         32.0
        ],
        [
         26,
         "Gumbär Gummibärchen",
         31.23
        ],
        [
         10,
         "Ikura",
         31.0
        ],
        [
         7,
         "Uncle Bob's Organic Dried Pears",
         30.0
        ],
        [
         61,
         "Sirop d'érable",
         28.5
        ],
        [
         37,
         "Gravad lax",
         26.0
        ],
        [
         30,
         "Nord-Ost Matjeshering",
         25.89
        ],
        [
         6,
         "Grandma's Boysenberry Spread",
         25.0
        ],
        [
         55,
         "Pâté chinois",
         24.0
        ],
        [
         14,
         "Tofu",
         23.25
        ],
        [
         4,
         "Chef Anton's Cajun Seasoning",
         22.0
        ],
        [
         71,
         "Flotemysost",
         21.5
        ],
        [
         5,
         "Chef Anton's Gumbo Mix",
         21.35
        ],
        [
         65,
         "Louisiana Fiery Hot Pepper Sauce",
         21.05
        ],
        [
         11,
         "Queso Cabrales",
         21.0
        ],
        [
         22,
         "Gustaf's Knäckebröd",
         21.0
        ],
        [
         49,
         "Maxilaku",
         20.0
        ],
        [
         57,
         "Ravioli Angelo",
         19.5
        ],
        [
         44,
         "Gula Malacca",
         19.45
        ],
        [
         2,
         "Chang",
         19.0
        ],
        [
         36,
         "Inlagd Sill",
         19.0
        ],
        [
         40,
         "Boston Crab Meat",
         18.4
        ],
        [
         1,
         "Chai",
         18.0
        ],
        [
         35,
         "Steeleye Stout",
         18.0
        ],
        [
         39,
         "Chartreuse verte",
         18.0
        ],
        [
         76,
         "Lakkalikööri",
         18.0
        ],
        [
         16,
         "Pavlova",
         17.45
        ],
        [
         66,
         "Louisiana Hot Spiced Okra",
         17.0
        ],
        [
         50,
         "Valkoinen suklaa",
         16.25
        ],
        [
         15,
         "Genen Shouyu",
         15.5
        ],
        [
         70,
         "Outback Lager",
         15.0
        ],
        [
         73,
         "Röd Kaviar",
         15.0
        ],
        [
         25,
         "NuNuCa Nuß-Nougat-Creme",
         14.0
        ],
        [
         34,
         "Sasquatch Ale",
         14.0
        ],
        [
         42,
         "Singaporean Hokkien Fried Mee",
         14.0
        ],
        [
         67,
         "Laughing Lumberjack Lager",
         14.0
        ],
        [
         58,
         "Escargots de Bourgogne",
         13.25
        ],
        [
         77,
         "Original Frankfurter grüne Soße",
         13.0
        ],
        [
         48,
         "Chocolade",
         12.75
        ],
        [
         31,
         "Gorgonzola Telino",
         12.5
        ],
        [
         68,
         "Scottish Longbreads",
         12.5
        ],
        [
         46,
         "Spegesild",
         12.0
        ],
        [
         3,
         "Aniseed Syrup",
         10.0
        ],
        [
         21,
         "Sir Rodney's Scones",
         10.0
        ],
        [
         74,
         "Longlife Tofu",
         10.0
        ],
        [
         41,
         "Jack's New England Clam Chowder",
         9.65
        ],
        [
         45,
         "Rogede sild",
         9.5
        ],
        [
         47,
         "Zaanse koeken",
         9.5
        ],
        [
         19,
         "Teatime Chocolate Biscuits",
         9.2
        ],
        [
         23,
         "Tunnbröd",
         9.0
        ],
        [
         75,
         "Rhönbräu Klosterbier",
         7.75
        ],
        [
         54,
         "Tourtière",
         7.45
        ],
        [
         52,
         "Filo Mix",
         7.0
        ],
        [
         13,
         "Konbu",
         6.0
        ],
        [
         24,
         "Guaraná Fantástica",
         4.5
        ],
        [
         33,
         "Geitost",
         2.5
        ]
       ],
       "datasetInfos": [],
       "dbfsResultPath": null,
       "isJsonSchema": true,
       "metadata": {},
       "overflow": false,
       "plotOptions": {
        "customPlotOptions": {},
        "displayType": "table",
        "pivotAggregation": null,
        "pivotColumns": null,
        "xColumns": null,
        "yColumns": null
       },
       "removedWidgets": [],
       "schema": [
        {
         "metadata": "{}",
         "name": "ProductID",
         "type": "\"integer\""
        },
        {
         "metadata": "{}",
         "name": "ProductName",
         "type": "\"string\""
        },
        {
         "metadata": "{}",
         "name": "UnitPrice",
         "type": "\"double\""
        }
       ],
       "type": "table"
      }
     },
     "output_type": "display_data"
    }
   ],
   "source": [
    "%sql\n",
    "-- List the most heavily discounted products in descending order\n",
    "SELECT ProductID, ProductName, UnitPrice\n",
    "FROM products\n",
    "ORDER BY UnitPrice DESC\n"
   ]
  },
  {
   "cell_type": "code",
   "execution_count": 0,
   "metadata": {
    "application/vnd.databricks.v1+cell": {
     "cellMetadata": {},
     "inputWidgets": {},
     "nuid": "bee622b9-b3fa-4413-8047-1f9e16c62f69",
     "showTitle": false,
     "title": ""
    }
   },
   "outputs": [],
   "source": []
  }
 ],
 "metadata": {
  "application/vnd.databricks.v1+notebook": {
   "dashboards": [],
   "language": "python",
   "notebookMetadata": {
    "mostRecentlyExecutedCommandWithImplicitDF": {
     "commandId": 2811692914327552,
     "dataframes": [
      "_sqldf"
     ]
    },
    "pythonIndentUnit": 2
   },
   "notebookName": "Northwind_Group_Project_starter",
   "widgets": {}
  }
 },
 "nbformat": 4,
 "nbformat_minor": 0
}
